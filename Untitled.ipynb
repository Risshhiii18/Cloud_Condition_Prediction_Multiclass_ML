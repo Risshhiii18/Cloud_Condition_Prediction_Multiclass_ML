{
 "cells": [
  {
   "cell_type": "code",
   "execution_count": 101,
   "metadata": {},
   "outputs": [],
   "source": [
    "import pandas as pd\n",
    "import numpy as np\n",
    "import matplotlib.pyplot as plt\n",
    "import seaborn as sns\n"
   ]
  },
  {
   "cell_type": "code",
   "execution_count": 102,
   "metadata": {},
   "outputs": [],
   "source": [
    "pd.pandas.set_option('display.max_columns',None)"
   ]
  },
  {
   "cell_type": "code",
   "execution_count": 103,
   "metadata": {
    "scrolled": true
   },
   "outputs": [
    {
     "name": "stderr",
     "output_type": "stream",
     "text": [
      "C:\\Users\\chuda\\anaconda3\\envs\\Rushabh\\lib\\site-packages\\IPython\\core\\interactiveshell.py:3072: DtypeWarning: Columns (3) have mixed types.Specify dtype option on import or set low_memory=False.\n",
      "  interactivity=interactivity, compiler=compiler, result=result)\n"
     ]
    }
   ],
   "source": [
    "df = pd.read_csv('train_CloudCondition.csv')"
   ]
  },
  {
   "cell_type": "code",
   "execution_count": 3,
   "metadata": {},
   "outputs": [
    {
     "data": {
      "text/html": [
       "<div>\n",
       "<style scoped>\n",
       "    .dataframe tbody tr th:only-of-type {\n",
       "        vertical-align: middle;\n",
       "    }\n",
       "\n",
       "    .dataframe tbody tr th {\n",
       "        vertical-align: top;\n",
       "    }\n",
       "\n",
       "    .dataframe thead th {\n",
       "        text-align: right;\n",
       "    }\n",
       "</style>\n",
       "<table border=\"1\" class=\"dataframe\">\n",
       "  <thead>\n",
       "    <tr style=\"text-align: right;\">\n",
       "      <th></th>\n",
       "      <th>Day</th>\n",
       "      <th>Cloud_Condition</th>\n",
       "      <th>Rain_OR_SNOW</th>\n",
       "      <th>Temperature (C)</th>\n",
       "      <th>Apparent Temperature (C)</th>\n",
       "      <th>Humidity</th>\n",
       "      <th>Wind Speed (km/h)</th>\n",
       "      <th>Wind Bearing (degrees)</th>\n",
       "      <th>Visibility (km)</th>\n",
       "      <th>Pressure (millibars)</th>\n",
       "      <th>Condensation</th>\n",
       "      <th>Solar irradiance intensity</th>\n",
       "    </tr>\n",
       "  </thead>\n",
       "  <tbody>\n",
       "    <tr>\n",
       "      <th>0</th>\n",
       "      <td>1</td>\n",
       "      <td>Partly Cloudy</td>\n",
       "      <td>rain</td>\n",
       "      <td>-13</td>\n",
       "      <td>-19.0</td>\n",
       "      <td>0.134364</td>\n",
       "      <td>17.0</td>\n",
       "      <td>68.0</td>\n",
       "      <td>4.0</td>\n",
       "      <td>1008.0</td>\n",
       "      <td>Frost</td>\n",
       "      <td>1068</td>\n",
       "    </tr>\n",
       "    <tr>\n",
       "      <th>1</th>\n",
       "      <td>2</td>\n",
       "      <td>Partly Cloudy</td>\n",
       "      <td>rain</td>\n",
       "      <td>15</td>\n",
       "      <td>5.0</td>\n",
       "      <td>0.847434</td>\n",
       "      <td>8.0</td>\n",
       "      <td>291.0</td>\n",
       "      <td>2.0</td>\n",
       "      <td>1036.0</td>\n",
       "      <td>Frost</td>\n",
       "      <td>1291</td>\n",
       "    </tr>\n",
       "    <tr>\n",
       "      <th>2</th>\n",
       "      <td>3</td>\n",
       "      <td>Partly Cloudy</td>\n",
       "      <td>rain</td>\n",
       "      <td>33</td>\n",
       "      <td>-12.0</td>\n",
       "      <td>0.763775</td>\n",
       "      <td>32.0</td>\n",
       "      <td>32.0</td>\n",
       "      <td>8.0</td>\n",
       "      <td>1004.0</td>\n",
       "      <td>Dry</td>\n",
       "      <td>1433</td>\n",
       "    </tr>\n",
       "    <tr>\n",
       "      <th>3</th>\n",
       "      <td>4</td>\n",
       "      <td>Partly Cloudy</td>\n",
       "      <td>snow</td>\n",
       "      <td>30</td>\n",
       "      <td>36.0</td>\n",
       "      <td>0.255069</td>\n",
       "      <td>15.0</td>\n",
       "      <td>130.0</td>\n",
       "      <td>3.0</td>\n",
       "      <td>1016.0</td>\n",
       "      <td>Dry</td>\n",
       "      <td>1410</td>\n",
       "    </tr>\n",
       "    <tr>\n",
       "      <th>4</th>\n",
       "      <td>5</td>\n",
       "      <td>Partly Cloudy</td>\n",
       "      <td>snow</td>\n",
       "      <td>27</td>\n",
       "      <td>30.0</td>\n",
       "      <td>0.495435</td>\n",
       "      <td>63.0</td>\n",
       "      <td>60.0</td>\n",
       "      <td>15.0</td>\n",
       "      <td>1007.0</td>\n",
       "      <td>Fog</td>\n",
       "      <td>1391</td>\n",
       "    </tr>\n",
       "  </tbody>\n",
       "</table>\n",
       "</div>"
      ],
      "text/plain": [
       "   Day Cloud_Condition Rain_OR_SNOW Temperature (C)  Apparent Temperature (C)  \\\n",
       "0    1   Partly Cloudy         rain             -13                     -19.0   \n",
       "1    2   Partly Cloudy         rain              15                       5.0   \n",
       "2    3   Partly Cloudy         rain              33                     -12.0   \n",
       "3    4   Partly Cloudy         snow              30                      36.0   \n",
       "4    5   Partly Cloudy         snow              27                      30.0   \n",
       "\n",
       "   Humidity  Wind Speed (km/h)  Wind Bearing (degrees)  Visibility (km)  \\\n",
       "0  0.134364               17.0                    68.0              4.0   \n",
       "1  0.847434                8.0                   291.0              2.0   \n",
       "2  0.763775               32.0                    32.0              8.0   \n",
       "3  0.255069               15.0                   130.0              3.0   \n",
       "4  0.495435               63.0                    60.0             15.0   \n",
       "\n",
       "   Pressure (millibars) Condensation  Solar irradiance intensity  \n",
       "0                1008.0        Frost                        1068  \n",
       "1                1036.0        Frost                        1291  \n",
       "2                1004.0          Dry                        1433  \n",
       "3                1016.0          Dry                        1410  \n",
       "4                1007.0          Fog                        1391  "
      ]
     },
     "execution_count": 3,
     "metadata": {},
     "output_type": "execute_result"
    }
   ],
   "source": [
    "df.head()"
   ]
  },
  {
   "cell_type": "code",
   "execution_count": null,
   "metadata": {},
   "outputs": [],
   "source": []
  },
  {
   "cell_type": "code",
   "execution_count": 6,
   "metadata": {},
   "outputs": [
    {
     "data": {
      "text/plain": [
       "(71428, 12)"
      ]
     },
     "execution_count": 6,
     "metadata": {},
     "output_type": "execute_result"
    }
   ],
   "source": [
    "df.shape"
   ]
  },
  {
   "cell_type": "code",
   "execution_count": 7,
   "metadata": {},
   "outputs": [
    {
     "name": "stdout",
     "output_type": "stream",
     "text": [
      "<class 'pandas.core.frame.DataFrame'>\n",
      "RangeIndex: 71428 entries, 0 to 71427\n",
      "Data columns (total 12 columns):\n",
      " #   Column                      Non-Null Count  Dtype  \n",
      "---  ------                      --------------  -----  \n",
      " 0   Day                         71428 non-null  int64  \n",
      " 1   Cloud_Condition             71428 non-null  object \n",
      " 2   Rain_OR_SNOW                71313 non-null  object \n",
      " 3   Temperature (C)             71176 non-null  object \n",
      " 4   Apparent Temperature (C)    71425 non-null  float64\n",
      " 5   Humidity                    71427 non-null  float64\n",
      " 6   Wind Speed (km/h)           71426 non-null  float64\n",
      " 7   Wind Bearing (degrees)      71391 non-null  float64\n",
      " 8   Visibility (km)             71408 non-null  float64\n",
      " 9   Pressure (millibars)        71363 non-null  float64\n",
      " 10  Condensation                71428 non-null  object \n",
      " 11  Solar irradiance intensity  71428 non-null  int64  \n",
      "dtypes: float64(6), int64(2), object(4)\n",
      "memory usage: 6.5+ MB\n"
     ]
    }
   ],
   "source": [
    "df.info()"
   ]
  },
  {
   "cell_type": "code",
   "execution_count": 15,
   "metadata": {},
   "outputs": [
    {
     "name": "stdout",
     "output_type": "stream",
     "text": [
      "Rain_OR_SNOW 0.00161  % missing values\n",
      "Temperature (C) 0.00353  % missing values\n",
      "Apparent Temperature (C) 4e-05  % missing values\n",
      "Wind Speed (km/h) 3e-05  % missing values\n",
      "Wind Bearing (degrees) 0.00052  % missing values\n",
      "Visibility (km) 0.00028  % missing values\n",
      "Pressure (millibars) 0.00091  % missing values\n"
     ]
    }
   ],
   "source": [
    "null_values=[features for features in df.columns if df[features].isnull().sum()>1]\n",
    "\n",
    "for feature in null_values:\n",
    "    print(feature, np.round(df[feature].isnull().mean(), 5),  ' % missing values')"
   ]
  },
  {
   "cell_type": "code",
   "execution_count": 18,
   "metadata": {},
   "outputs": [],
   "source": [
    "Numerical_feature = [features for features in df.columns if df[features].dtype != 'O']"
   ]
  },
  {
   "cell_type": "code",
   "execution_count": 19,
   "metadata": {},
   "outputs": [
    {
     "data": {
      "text/plain": [
       "['Day',\n",
       " 'Apparent Temperature (C)',\n",
       " 'Humidity',\n",
       " 'Wind Speed (km/h)',\n",
       " 'Wind Bearing (degrees)',\n",
       " 'Visibility (km)',\n",
       " 'Pressure (millibars)',\n",
       " 'Solar irradiance intensity']"
      ]
     },
     "execution_count": 19,
     "metadata": {},
     "output_type": "execute_result"
    }
   ],
   "source": [
    "Numerical_feature"
   ]
  },
  {
   "cell_type": "code",
   "execution_count": 21,
   "metadata": {},
   "outputs": [
    {
     "data": {
      "image/png": "[encoded data removed]",
      "text/plain": [
       "<Figure size 432x288 with 1 Axes>"
      ]
     },
     "metadata": {
      "needs_background": "light"
     },
     "output_type": "display_data"
    },
    {
     "data": {
      "image/png": "[encoded data removed]",
      "text/plain": [
       "<Figure size 432x288 with 1 Axes>"
      ]
     },
     "metadata": {
      "needs_background": "light"
     },
     "output_type": "display_data"
    },
    {
     "data": {
      "image/png": "[encoded data removed]",
      "text/plain": [
       "<Figure size 432x288 with 1 Axes>"
      ]
     },
     "metadata": {
      "needs_background": "light"
     },
     "output_type": "display_data"
    },
    {
     "data": {
      "image/png": "[encoded data removed]",
      "text/plain": [
       "<Figure size 432x288 with 1 Axes>"
      ]
     },
     "metadata": {
      "needs_background": "light"
     },
     "output_type": "display_data"
    },
    {
     "data": {
      "image/png": "[encoded data removed]",
      "text/plain": [
       "<Figure size 432x288 with 1 Axes>"
      ]
     },
     "metadata": {
      "needs_background": "light"
     },
     "output_type": "display_data"
    },
    {
     "data": {
      "image/png": "[encoded data removed]",
      "text/plain": [
       "<Figure size 432x288 with 1 Axes>"
      ]
     },
     "metadata": {
      "needs_background": "light"
     },
     "output_type": "display_data"
    },
    {
     "data": {
      "image/png": "[encoded data removed]",
      "text/plain": [
       "<Figure size 432x288 with 1 Axes>"
      ]
     },
     "metadata": {
      "needs_background": "light"
     },
     "output_type": "display_data"
    },
    {
     "data": {
      "image/png": "[encoded data removed]",
      "text/plain": [
       "<Figure size 432x288 with 1 Axes>"
      ]
     },
     "metadata": {
      "needs_background": "light"
     },
     "output_type": "display_data"
    }
   ],
   "source": [
    "for feature in Numerical_feature:\n",
    "    data=df.copy()\n",
    "    data[feature].hist(bins=25)\n",
    "    plt.xlabel(feature)\n",
    "    plt.ylabel(\"Count\")\n",
    "    plt.title(feature)\n",
    "    plt.show()"
   ]
  },
  {
   "cell_type": "code",
   "execution_count": 56,
   "metadata": {},
   "outputs": [
    {
     "data": {
      "image/png": "[encoded data removed]",
      "text/plain": [
       "<Figure size 432x288 with 1 Axes>"
      ]
     },
     "metadata": {
      "needs_background": "light"
     },
     "output_type": "display_data"
    },
    {
     "data": {
      "image/png": "[encoded data removed]",
      "text/plain": [
       "<Figure size 432x288 with 1 Axes>"
      ]
     },
     "metadata": {
      "needs_background": "light"
     },
     "output_type": "display_data"
    },
    {
     "data": {
      "image/png": "[encoded data removed]",
      "text/plain": [
       "<Figure size 432x288 with 1 Axes>"
      ]
     },
     "metadata": {
      "needs_background": "light"
     },
     "output_type": "display_data"
    },
    {
     "data": {
      "image/png": "[encoded data removed]",
      "text/plain": [
       "<Figure size 432x288 with 1 Axes>"
      ]
     },
     "metadata": {
      "needs_background": "light"
     },
     "output_type": "display_data"
    }
   ],
   "source": [
    "for feature in Numerical_feature:\n",
    "    data=df.copy()\n",
    "    if 0 in data[feature].unique():\n",
    "        pass\n",
    "    else:\n",
    "        data[feature]=np.log(data[feature])\n",
    "        data.boxplot(column=feature)\n",
    "        plt.ylabel(feature)\n",
    "        plt.title(feature)\n",
    "        plt.show()"
   ]
  },
  {
   "cell_type": "code",
   "execution_count": 26,
   "metadata": {},
   "outputs": [
    {
     "data": {
      "text/plain": [
       "Mostly Cloudy                          30.824047\n",
       "Partly Cloudy                          24.658397\n",
       "Overcast                               19.056952\n",
       "Clear                                  13.606709\n",
       "Foggy                                   8.260066\n",
       "Breezy and Dry                          0.918407\n",
       "Breezy and Mostly Cloudy                0.662205\n",
       "Breezy and Overcast                     0.635605\n",
       "Breezy and Partly Cloudy                0.490004\n",
       "Light Rain                              0.299602\n",
       "Dry and Partly Cloudy                   0.120401\n",
       "Windy and Partly Cloudy                 0.088201\n",
       "Breezy                                  0.063001\n",
       "Windy and Overcast                      0.060200\n",
       "Breezy and Foggy                        0.047600\n",
       "Dry                                     0.047600\n",
       "Windy and Mostly Cloudy                 0.044800\n",
       "Humid and Mostly Cloudy                 0.044800\n",
       "Humid and Partly Cloudy                 0.023800\n",
       "Dry and Mostly Cloudy                   0.019600\n",
       "Drizzle                                 0.007000\n",
       "Humid and Overcast                      0.007000\n",
       "Windy                                   0.007000\n",
       "Windy and Foggy                         0.004200\n",
       "Dangerously Windy and Partly Cloudy     0.001400\n",
       "Windy and Dry                           0.001400\n",
       "Name: Cloud_Condition, dtype: float64"
      ]
     },
     "execution_count": 26,
     "metadata": {},
     "output_type": "execute_result"
    }
   ],
   "source": [
    "df['Cloud_Condition'].value_counts(normalize=True)*100"
   ]
  },
  {
   "cell_type": "code",
   "execution_count": null,
   "metadata": {},
   "outputs": [],
   "source": [
    "# as we can see above there are only 4 categories which has highest probability for the cloud condition"
   ]
  },
  {
   "cell_type": "code",
   "execution_count": 27,
   "metadata": {},
   "outputs": [
    {
     "data": {
      "text/html": [
       "<div>\n",
       "<style scoped>\n",
       "    .dataframe tbody tr th:only-of-type {\n",
       "        vertical-align: middle;\n",
       "    }\n",
       "\n",
       "    .dataframe tbody tr th {\n",
       "        vertical-align: top;\n",
       "    }\n",
       "\n",
       "    .dataframe thead th {\n",
       "        text-align: right;\n",
       "    }\n",
       "</style>\n",
       "<table border=\"1\" class=\"dataframe\">\n",
       "  <thead>\n",
       "    <tr style=\"text-align: right;\">\n",
       "      <th></th>\n",
       "      <th>Day</th>\n",
       "      <th>Apparent Temperature (C)</th>\n",
       "      <th>Humidity</th>\n",
       "      <th>Wind Speed (km/h)</th>\n",
       "      <th>Wind Bearing (degrees)</th>\n",
       "      <th>Visibility (km)</th>\n",
       "      <th>Pressure (millibars)</th>\n",
       "      <th>Solar irradiance intensity</th>\n",
       "    </tr>\n",
       "    <tr>\n",
       "      <th>Cloud_Condition</th>\n",
       "      <th></th>\n",
       "      <th></th>\n",
       "      <th></th>\n",
       "      <th></th>\n",
       "      <th></th>\n",
       "      <th></th>\n",
       "      <th></th>\n",
       "      <th></th>\n",
       "    </tr>\n",
       "  </thead>\n",
       "  <tbody>\n",
       "    <tr>\n",
       "      <th>Breezy</th>\n",
       "      <td>40939.511111</td>\n",
       "      <td>8.133333</td>\n",
       "      <td>0.557796</td>\n",
       "      <td>30.977778</td>\n",
       "      <td>181.844444</td>\n",
       "      <td>7.977778</td>\n",
       "      <td>1023.977778</td>\n",
       "      <td>1239.622222</td>\n",
       "    </tr>\n",
       "    <tr>\n",
       "      <th>Breezy and Dry</th>\n",
       "      <td>2270.931402</td>\n",
       "      <td>5.742378</td>\n",
       "      <td>0.510564</td>\n",
       "      <td>31.678354</td>\n",
       "      <td>178.893293</td>\n",
       "      <td>7.894656</td>\n",
       "      <td>1023.035385</td>\n",
       "      <td>1252.452744</td>\n",
       "    </tr>\n",
       "    <tr>\n",
       "      <th>Breezy and Foggy</th>\n",
       "      <td>47819.235294</td>\n",
       "      <td>9.264706</td>\n",
       "      <td>0.546845</td>\n",
       "      <td>30.176471</td>\n",
       "      <td>184.676471</td>\n",
       "      <td>7.147059</td>\n",
       "      <td>1025.264706</td>\n",
       "      <td>1220.647059</td>\n",
       "    </tr>\n",
       "    <tr>\n",
       "      <th>Breezy and Mostly Cloudy</th>\n",
       "      <td>42153.860465</td>\n",
       "      <td>5.558140</td>\n",
       "      <td>0.508919</td>\n",
       "      <td>31.866808</td>\n",
       "      <td>180.653277</td>\n",
       "      <td>7.883721</td>\n",
       "      <td>1023.386892</td>\n",
       "      <td>1247.114165</td>\n",
       "    </tr>\n",
       "    <tr>\n",
       "      <th>Breezy and Overcast</th>\n",
       "      <td>45095.370044</td>\n",
       "      <td>5.524229</td>\n",
       "      <td>0.505985</td>\n",
       "      <td>31.361233</td>\n",
       "      <td>179.385463</td>\n",
       "      <td>7.892070</td>\n",
       "      <td>1023.799559</td>\n",
       "      <td>1262.444934</td>\n",
       "    </tr>\n",
       "    <tr>\n",
       "      <th>Breezy and Partly Cloudy</th>\n",
       "      <td>36568.694286</td>\n",
       "      <td>6.608571</td>\n",
       "      <td>0.517068</td>\n",
       "      <td>31.842857</td>\n",
       "      <td>173.734286</td>\n",
       "      <td>7.651429</td>\n",
       "      <td>1023.680000</td>\n",
       "      <td>1236.862857</td>\n",
       "    </tr>\n",
       "    <tr>\n",
       "      <th>Clear</th>\n",
       "      <td>35844.028810</td>\n",
       "      <td>5.550468</td>\n",
       "      <td>0.498807</td>\n",
       "      <td>31.238115</td>\n",
       "      <td>178.918649</td>\n",
       "      <td>8.033460</td>\n",
       "      <td>1023.024624</td>\n",
       "      <td>1247.718901</td>\n",
       "    </tr>\n",
       "    <tr>\n",
       "      <th>Dangerously Windy and Partly Cloudy</th>\n",
       "      <td>12182.000000</td>\n",
       "      <td>14.000000</td>\n",
       "      <td>0.829716</td>\n",
       "      <td>59.000000</td>\n",
       "      <td>269.000000</td>\n",
       "      <td>11.000000</td>\n",
       "      <td>1041.000000</td>\n",
       "      <td>1043.000000</td>\n",
       "    </tr>\n",
       "    <tr>\n",
       "      <th>Drizzle</th>\n",
       "      <td>53981.200000</td>\n",
       "      <td>5.400000</td>\n",
       "      <td>0.192976</td>\n",
       "      <td>20.800000</td>\n",
       "      <td>175.000000</td>\n",
       "      <td>8.800000</td>\n",
       "      <td>1016.600000</td>\n",
       "      <td>1138.800000</td>\n",
       "    </tr>\n",
       "    <tr>\n",
       "      <th>Dry</th>\n",
       "      <td>34864.852941</td>\n",
       "      <td>1.382353</td>\n",
       "      <td>0.543239</td>\n",
       "      <td>31.441176</td>\n",
       "      <td>205.735294</td>\n",
       "      <td>7.029412</td>\n",
       "      <td>1019.382353</td>\n",
       "      <td>1259.264706</td>\n",
       "    </tr>\n",
       "    <tr>\n",
       "      <th>Dry and Mostly Cloudy</th>\n",
       "      <td>57742.142857</td>\n",
       "      <td>19.642857</td>\n",
       "      <td>0.503085</td>\n",
       "      <td>33.071429</td>\n",
       "      <td>152.357143</td>\n",
       "      <td>7.928571</td>\n",
       "      <td>1026.214286</td>\n",
       "      <td>1299.428571</td>\n",
       "    </tr>\n",
       "    <tr>\n",
       "      <th>Dry and Partly Cloudy</th>\n",
       "      <td>46795.430233</td>\n",
       "      <td>5.930233</td>\n",
       "      <td>0.533792</td>\n",
       "      <td>29.639535</td>\n",
       "      <td>181.639535</td>\n",
       "      <td>8.395349</td>\n",
       "      <td>1022.406977</td>\n",
       "      <td>1259.697674</td>\n",
       "    </tr>\n",
       "    <tr>\n",
       "      <th>Foggy</th>\n",
       "      <td>39017.011017</td>\n",
       "      <td>6.157627</td>\n",
       "      <td>0.504269</td>\n",
       "      <td>31.612712</td>\n",
       "      <td>179.172969</td>\n",
       "      <td>7.962699</td>\n",
       "      <td>1023.162538</td>\n",
       "      <td>1251.371186</td>\n",
       "    </tr>\n",
       "    <tr>\n",
       "      <th>Humid and Mostly Cloudy</th>\n",
       "      <td>43501.218750</td>\n",
       "      <td>6.781250</td>\n",
       "      <td>0.478467</td>\n",
       "      <td>35.937500</td>\n",
       "      <td>160.656250</td>\n",
       "      <td>8.968750</td>\n",
       "      <td>1022.656250</td>\n",
       "      <td>1250.937500</td>\n",
       "    </tr>\n",
       "    <tr>\n",
       "      <th>Humid and Overcast</th>\n",
       "      <td>59562.800000</td>\n",
       "      <td>-0.600000</td>\n",
       "      <td>0.736375</td>\n",
       "      <td>35.200000</td>\n",
       "      <td>90.800000</td>\n",
       "      <td>4.800000</td>\n",
       "      <td>1022.000000</td>\n",
       "      <td>1364.800000</td>\n",
       "    </tr>\n",
       "    <tr>\n",
       "      <th>Humid and Partly Cloudy</th>\n",
       "      <td>34848.352941</td>\n",
       "      <td>9.941176</td>\n",
       "      <td>0.486273</td>\n",
       "      <td>27.294118</td>\n",
       "      <td>164.235294</td>\n",
       "      <td>8.588235</td>\n",
       "      <td>1021.235294</td>\n",
       "      <td>1213.470588</td>\n",
       "    </tr>\n",
       "    <tr>\n",
       "      <th>Light Rain</th>\n",
       "      <td>4829.897196</td>\n",
       "      <td>5.378505</td>\n",
       "      <td>0.490184</td>\n",
       "      <td>30.355140</td>\n",
       "      <td>183.280374</td>\n",
       "      <td>8.037559</td>\n",
       "      <td>1022.542453</td>\n",
       "      <td>1243.448598</td>\n",
       "    </tr>\n",
       "    <tr>\n",
       "      <th>Mostly Cloudy</th>\n",
       "      <td>43447.273607</td>\n",
       "      <td>5.311305</td>\n",
       "      <td>0.501306</td>\n",
       "      <td>31.661443</td>\n",
       "      <td>179.102154</td>\n",
       "      <td>8.003997</td>\n",
       "      <td>1023.029532</td>\n",
       "      <td>1250.750783</td>\n",
       "    </tr>\n",
       "    <tr>\n",
       "      <th>Overcast</th>\n",
       "      <td>40167.672642</td>\n",
       "      <td>5.384084</td>\n",
       "      <td>0.499689</td>\n",
       "      <td>31.378857</td>\n",
       "      <td>180.331055</td>\n",
       "      <td>8.006319</td>\n",
       "      <td>1022.941523</td>\n",
       "      <td>1249.363209</td>\n",
       "    </tr>\n",
       "    <tr>\n",
       "      <th>Partly Cloudy</th>\n",
       "      <td>28366.729404</td>\n",
       "      <td>5.749503</td>\n",
       "      <td>0.500316</td>\n",
       "      <td>31.597831</td>\n",
       "      <td>178.769611</td>\n",
       "      <td>8.063497</td>\n",
       "      <td>1022.813512</td>\n",
       "      <td>1249.349742</td>\n",
       "    </tr>\n",
       "    <tr>\n",
       "      <th>Windy</th>\n",
       "      <td>40021.000000</td>\n",
       "      <td>-7.400000</td>\n",
       "      <td>0.484600</td>\n",
       "      <td>16.200000</td>\n",
       "      <td>164.400000</td>\n",
       "      <td>8.200000</td>\n",
       "      <td>1021.400000</td>\n",
       "      <td>1164.000000</td>\n",
       "    </tr>\n",
       "    <tr>\n",
       "      <th>Windy and Dry</th>\n",
       "      <td>53125.000000</td>\n",
       "      <td>-7.000000</td>\n",
       "      <td>0.923588</td>\n",
       "      <td>25.000000</td>\n",
       "      <td>45.000000</td>\n",
       "      <td>4.000000</td>\n",
       "      <td>1028.000000</td>\n",
       "      <td>1485.000000</td>\n",
       "    </tr>\n",
       "    <tr>\n",
       "      <th>Windy and Foggy</th>\n",
       "      <td>25656.000000</td>\n",
       "      <td>-10.000000</td>\n",
       "      <td>0.701832</td>\n",
       "      <td>32.333333</td>\n",
       "      <td>162.000000</td>\n",
       "      <td>4.666667</td>\n",
       "      <td>1031.000000</td>\n",
       "      <td>1077.666667</td>\n",
       "    </tr>\n",
       "    <tr>\n",
       "      <th>Windy and Mostly Cloudy</th>\n",
       "      <td>44159.562500</td>\n",
       "      <td>0.968750</td>\n",
       "      <td>0.485397</td>\n",
       "      <td>32.812500</td>\n",
       "      <td>183.218750</td>\n",
       "      <td>7.625000</td>\n",
       "      <td>1023.281250</td>\n",
       "      <td>1246.625000</td>\n",
       "    </tr>\n",
       "    <tr>\n",
       "      <th>Windy and Overcast</th>\n",
       "      <td>41731.255814</td>\n",
       "      <td>2.093023</td>\n",
       "      <td>0.544310</td>\n",
       "      <td>32.906977</td>\n",
       "      <td>186.186047</td>\n",
       "      <td>7.511628</td>\n",
       "      <td>1023.465116</td>\n",
       "      <td>1258.023256</td>\n",
       "    </tr>\n",
       "    <tr>\n",
       "      <th>Windy and Partly Cloudy</th>\n",
       "      <td>33894.841270</td>\n",
       "      <td>5.523810</td>\n",
       "      <td>0.521823</td>\n",
       "      <td>33.365079</td>\n",
       "      <td>167.603175</td>\n",
       "      <td>7.634921</td>\n",
       "      <td>1025.444444</td>\n",
       "      <td>1247.428571</td>\n",
       "    </tr>\n",
       "  </tbody>\n",
       "</table>\n",
       "</div>"
      ],
      "text/plain": [
       "                                              Day  Apparent Temperature (C)  \\\n",
       "Cloud_Condition                                                               \n",
       "Breezy                               40939.511111                  8.133333   \n",
       "Breezy and Dry                        2270.931402                  5.742378   \n",
       "Breezy and Foggy                     47819.235294                  9.264706   \n",
       "Breezy and Mostly Cloudy             42153.860465                  5.558140   \n",
       "Breezy and Overcast                  45095.370044                  5.524229   \n",
       "Breezy and Partly Cloudy             36568.694286                  6.608571   \n",
       "Clear                                35844.028810                  5.550468   \n",
       "Dangerously Windy and Partly Cloudy  12182.000000                 14.000000   \n",
       "Drizzle                              53981.200000                  5.400000   \n",
       "Dry                                  34864.852941                  1.382353   \n",
       "Dry and Mostly Cloudy                57742.142857                 19.642857   \n",
       "Dry and Partly Cloudy                46795.430233                  5.930233   \n",
       "Foggy                                39017.011017                  6.157627   \n",
       "Humid and Mostly Cloudy              43501.218750                  6.781250   \n",
       "Humid and Overcast                   59562.800000                 -0.600000   \n",
       "Humid and Partly Cloudy              34848.352941                  9.941176   \n",
       "Light Rain                            4829.897196                  5.378505   \n",
       "Mostly Cloudy                        43447.273607                  5.311305   \n",
       "Overcast                             40167.672642                  5.384084   \n",
       "Partly Cloudy                        28366.729404                  5.749503   \n",
       "Windy                                40021.000000                 -7.400000   \n",
       "Windy and Dry                        53125.000000                 -7.000000   \n",
       "Windy and Foggy                      25656.000000                -10.000000   \n",
       "Windy and Mostly Cloudy              44159.562500                  0.968750   \n",
       "Windy and Overcast                   41731.255814                  2.093023   \n",
       "Windy and Partly Cloudy              33894.841270                  5.523810   \n",
       "\n",
       "                                     Humidity  Wind Speed (km/h)  \\\n",
       "Cloud_Condition                                                    \n",
       "Breezy                               0.557796          30.977778   \n",
       "Breezy and Dry                       0.510564          31.678354   \n",
       "Breezy and Foggy                     0.546845          30.176471   \n",
       "Breezy and Mostly Cloudy             0.508919          31.866808   \n",
       "Breezy and Overcast                  0.505985          31.361233   \n",
       "Breezy and Partly Cloudy             0.517068          31.842857   \n",
       "Clear                                0.498807          31.238115   \n",
       "Dangerously Windy and Partly Cloudy  0.829716          59.000000   \n",
       "Drizzle                              0.192976          20.800000   \n",
       "Dry                                  0.543239          31.441176   \n",
       "Dry and Mostly Cloudy                0.503085          33.071429   \n",
       "Dry and Partly Cloudy                0.533792          29.639535   \n",
       "Foggy                                0.504269          31.612712   \n",
       "Humid and Mostly Cloudy              0.478467          35.937500   \n",
       "Humid and Overcast                   0.736375          35.200000   \n",
       "Humid and Partly Cloudy              0.486273          27.294118   \n",
       "Light Rain                           0.490184          30.355140   \n",
       "Mostly Cloudy                        0.501306          31.661443   \n",
       "Overcast                             0.499689          31.378857   \n",
       "Partly Cloudy                        0.500316          31.597831   \n",
       "Windy                                0.484600          16.200000   \n",
       "Windy and Dry                        0.923588          25.000000   \n",
       "Windy and Foggy                      0.701832          32.333333   \n",
       "Windy and Mostly Cloudy              0.485397          32.812500   \n",
       "Windy and Overcast                   0.544310          32.906977   \n",
       "Windy and Partly Cloudy              0.521823          33.365079   \n",
       "\n",
       "                                     Wind Bearing (degrees)  Visibility (km)  \\\n",
       "Cloud_Condition                                                                \n",
       "Breezy                                           181.844444         7.977778   \n",
       "Breezy and Dry                                   178.893293         7.894656   \n",
       "Breezy and Foggy                                 184.676471         7.147059   \n",
       "Breezy and Mostly Cloudy                         180.653277         7.883721   \n",
       "Breezy and Overcast                              179.385463         7.892070   \n",
       "Breezy and Partly Cloudy                         173.734286         7.651429   \n",
       "Clear                                            178.918649         8.033460   \n",
       "Dangerously Windy and Partly Cloudy              269.000000        11.000000   \n",
       "Drizzle                                          175.000000         8.800000   \n",
       "Dry                                              205.735294         7.029412   \n",
       "Dry and Mostly Cloudy                            152.357143         7.928571   \n",
       "Dry and Partly Cloudy                            181.639535         8.395349   \n",
       "Foggy                                            179.172969         7.962699   \n",
       "Humid and Mostly Cloudy                          160.656250         8.968750   \n",
       "Humid and Overcast                                90.800000         4.800000   \n",
       "Humid and Partly Cloudy                          164.235294         8.588235   \n",
       "Light Rain                                       183.280374         8.037559   \n",
       "Mostly Cloudy                                    179.102154         8.003997   \n",
       "Overcast                                         180.331055         8.006319   \n",
       "Partly Cloudy                                    178.769611         8.063497   \n",
       "Windy                                            164.400000         8.200000   \n",
       "Windy and Dry                                     45.000000         4.000000   \n",
       "Windy and Foggy                                  162.000000         4.666667   \n",
       "Windy and Mostly Cloudy                          183.218750         7.625000   \n",
       "Windy and Overcast                               186.186047         7.511628   \n",
       "Windy and Partly Cloudy                          167.603175         7.634921   \n",
       "\n",
       "                                     Pressure (millibars)  \\\n",
       "Cloud_Condition                                             \n",
       "Breezy                                        1023.977778   \n",
       "Breezy and Dry                                1023.035385   \n",
       "Breezy and Foggy                              1025.264706   \n",
       "Breezy and Mostly Cloudy                      1023.386892   \n",
       "Breezy and Overcast                           1023.799559   \n",
       "Breezy and Partly Cloudy                      1023.680000   \n",
       "Clear                                         1023.024624   \n",
       "Dangerously Windy and Partly Cloudy           1041.000000   \n",
       "Drizzle                                       1016.600000   \n",
       "Dry                                           1019.382353   \n",
       "Dry and Mostly Cloudy                         1026.214286   \n",
       "Dry and Partly Cloudy                         1022.406977   \n",
       "Foggy                                         1023.162538   \n",
       "Humid and Mostly Cloudy                       1022.656250   \n",
       "Humid and Overcast                            1022.000000   \n",
       "Humid and Partly Cloudy                       1021.235294   \n",
       "Light Rain                                    1022.542453   \n",
       "Mostly Cloudy                                 1023.029532   \n",
       "Overcast                                      1022.941523   \n",
       "Partly Cloudy                                 1022.813512   \n",
       "Windy                                         1021.400000   \n",
       "Windy and Dry                                 1028.000000   \n",
       "Windy and Foggy                               1031.000000   \n",
       "Windy and Mostly Cloudy                       1023.281250   \n",
       "Windy and Overcast                            1023.465116   \n",
       "Windy and Partly Cloudy                       1025.444444   \n",
       "\n",
       "                                     Solar irradiance intensity  \n",
       "Cloud_Condition                                                  \n",
       "Breezy                                              1239.622222  \n",
       "Breezy and Dry                                      1252.452744  \n",
       "Breezy and Foggy                                    1220.647059  \n",
       "Breezy and Mostly Cloudy                            1247.114165  \n",
       "Breezy and Overcast                                 1262.444934  \n",
       "Breezy and Partly Cloudy                            1236.862857  \n",
       "Clear                                               1247.718901  \n",
       "Dangerously Windy and Partly Cloudy                 1043.000000  \n",
       "Drizzle                                             1138.800000  \n",
       "Dry                                                 1259.264706  \n",
       "Dry and Mostly Cloudy                               1299.428571  \n",
       "Dry and Partly Cloudy                               1259.697674  \n",
       "Foggy                                               1251.371186  \n",
       "Humid and Mostly Cloudy                             1250.937500  \n",
       "Humid and Overcast                                  1364.800000  \n",
       "Humid and Partly Cloudy                             1213.470588  \n",
       "Light Rain                                          1243.448598  \n",
       "Mostly Cloudy                                       1250.750783  \n",
       "Overcast                                            1249.363209  \n",
       "Partly Cloudy                                       1249.349742  \n",
       "Windy                                               1164.000000  \n",
       "Windy and Dry                                       1485.000000  \n",
       "Windy and Foggy                                     1077.666667  \n",
       "Windy and Mostly Cloudy                             1246.625000  \n",
       "Windy and Overcast                                  1258.023256  \n",
       "Windy and Partly Cloudy                             1247.428571  "
      ]
     },
     "execution_count": 27,
     "metadata": {},
     "output_type": "execute_result"
    }
   ],
   "source": [
    "df.groupby('Cloud_Condition').mean()"
   ]
  },
  {
   "cell_type": "code",
   "execution_count": 28,
   "metadata": {},
   "outputs": [],
   "source": [
    "# most Cloudy, partial Cloudy ,overcast has almost same values in all the columns this may conclude that the conditions\n",
    "# are nearly the same "
   ]
  },
  {
   "cell_type": "code",
   "execution_count": 36,
   "metadata": {},
   "outputs": [
    {
     "data": {
      "text/html": [
       "<div>\n",
       "<style scoped>\n",
       "    .dataframe tbody tr th:only-of-type {\n",
       "        vertical-align: middle;\n",
       "    }\n",
       "\n",
       "    .dataframe tbody tr th {\n",
       "        vertical-align: top;\n",
       "    }\n",
       "\n",
       "    .dataframe thead th {\n",
       "        text-align: right;\n",
       "    }\n",
       "</style>\n",
       "<table border=\"1\" class=\"dataframe\">\n",
       "  <thead>\n",
       "    <tr style=\"text-align: right;\">\n",
       "      <th>Cloud_Condition</th>\n",
       "      <th>Breezy</th>\n",
       "      <th>Breezy and Dry</th>\n",
       "      <th>Breezy and Foggy</th>\n",
       "      <th>Breezy and Mostly Cloudy</th>\n",
       "      <th>Breezy and Overcast</th>\n",
       "      <th>Breezy and Partly Cloudy</th>\n",
       "      <th>Clear</th>\n",
       "      <th>Dangerously Windy and Partly Cloudy</th>\n",
       "      <th>Drizzle</th>\n",
       "      <th>Dry</th>\n",
       "      <th>Dry and Mostly Cloudy</th>\n",
       "      <th>Dry and Partly Cloudy</th>\n",
       "      <th>Foggy</th>\n",
       "      <th>Humid and Mostly Cloudy</th>\n",
       "      <th>Humid and Overcast</th>\n",
       "      <th>Humid and Partly Cloudy</th>\n",
       "      <th>Light Rain</th>\n",
       "      <th>Mostly Cloudy</th>\n",
       "      <th>Overcast</th>\n",
       "      <th>Partly Cloudy</th>\n",
       "      <th>Windy</th>\n",
       "      <th>Windy and Dry</th>\n",
       "      <th>Windy and Foggy</th>\n",
       "      <th>Windy and Mostly Cloudy</th>\n",
       "      <th>Windy and Overcast</th>\n",
       "      <th>Windy and Partly Cloudy</th>\n",
       "    </tr>\n",
       "    <tr>\n",
       "      <th>Rain_OR_SNOW</th>\n",
       "      <th></th>\n",
       "      <th></th>\n",
       "      <th></th>\n",
       "      <th></th>\n",
       "      <th></th>\n",
       "      <th></th>\n",
       "      <th></th>\n",
       "      <th></th>\n",
       "      <th></th>\n",
       "      <th></th>\n",
       "      <th></th>\n",
       "      <th></th>\n",
       "      <th></th>\n",
       "      <th></th>\n",
       "      <th></th>\n",
       "      <th></th>\n",
       "      <th></th>\n",
       "      <th></th>\n",
       "      <th></th>\n",
       "      <th></th>\n",
       "      <th></th>\n",
       "      <th></th>\n",
       "      <th></th>\n",
       "      <th></th>\n",
       "      <th></th>\n",
       "      <th></th>\n",
       "    </tr>\n",
       "  </thead>\n",
       "  <tbody>\n",
       "    <tr>\n",
       "      <th>rain</th>\n",
       "      <td>33</td>\n",
       "      <td>607</td>\n",
       "      <td>8</td>\n",
       "      <td>447</td>\n",
       "      <td>402</td>\n",
       "      <td>343</td>\n",
       "      <td>8513</td>\n",
       "      <td>1</td>\n",
       "      <td>5</td>\n",
       "      <td>34</td>\n",
       "      <td>14</td>\n",
       "      <td>86</td>\n",
       "      <td>3191</td>\n",
       "      <td>32</td>\n",
       "      <td>5</td>\n",
       "      <td>17</td>\n",
       "      <td>184</td>\n",
       "      <td>20507</td>\n",
       "      <td>11146</td>\n",
       "      <td>16598</td>\n",
       "      <td>5</td>\n",
       "      <td>1</td>\n",
       "      <td>2</td>\n",
       "      <td>32</td>\n",
       "      <td>40</td>\n",
       "      <td>63</td>\n",
       "    </tr>\n",
       "    <tr>\n",
       "      <th>snow</th>\n",
       "      <td>12</td>\n",
       "      <td>49</td>\n",
       "      <td>26</td>\n",
       "      <td>26</td>\n",
       "      <td>52</td>\n",
       "      <td>7</td>\n",
       "      <td>1202</td>\n",
       "      <td>0</td>\n",
       "      <td>0</td>\n",
       "      <td>0</td>\n",
       "      <td>0</td>\n",
       "      <td>0</td>\n",
       "      <td>2709</td>\n",
       "      <td>0</td>\n",
       "      <td>0</td>\n",
       "      <td>0</td>\n",
       "      <td>30</td>\n",
       "      <td>1455</td>\n",
       "      <td>2433</td>\n",
       "      <td>992</td>\n",
       "      <td>0</td>\n",
       "      <td>0</td>\n",
       "      <td>1</td>\n",
       "      <td>0</td>\n",
       "      <td>3</td>\n",
       "      <td>0</td>\n",
       "    </tr>\n",
       "  </tbody>\n",
       "</table>\n",
       "</div>"
      ],
      "text/plain": [
       "Cloud_Condition  Breezy  Breezy and Dry  Breezy and Foggy  \\\n",
       "Rain_OR_SNOW                                                \n",
       "rain                 33             607                 8   \n",
       "snow                 12              49                26   \n",
       "\n",
       "Cloud_Condition  Breezy and Mostly Cloudy  Breezy and Overcast  \\\n",
       "Rain_OR_SNOW                                                     \n",
       "rain                                  447                  402   \n",
       "snow                                   26                   52   \n",
       "\n",
       "Cloud_Condition  Breezy and Partly Cloudy  Clear  \\\n",
       "Rain_OR_SNOW                                       \n",
       "rain                                  343   8513   \n",
       "snow                                    7   1202   \n",
       "\n",
       "Cloud_Condition  Dangerously Windy and Partly Cloudy  Drizzle  Dry  \\\n",
       "Rain_OR_SNOW                                                         \n",
       "rain                                               1        5   34   \n",
       "snow                                               0        0    0   \n",
       "\n",
       "Cloud_Condition  Dry and Mostly Cloudy  Dry and Partly Cloudy  Foggy  \\\n",
       "Rain_OR_SNOW                                                           \n",
       "rain                                14                     86   3191   \n",
       "snow                                 0                      0   2709   \n",
       "\n",
       "Cloud_Condition  Humid and Mostly Cloudy  Humid and Overcast  \\\n",
       "Rain_OR_SNOW                                                   \n",
       "rain                                  32                   5   \n",
       "snow                                   0                   0   \n",
       "\n",
       "Cloud_Condition  Humid and Partly Cloudy  Light Rain  Mostly Cloudy  Overcast  \\\n",
       "Rain_OR_SNOW                                                                    \n",
       "rain                                  17         184          20507     11146   \n",
       "snow                                   0          30           1455      2433   \n",
       "\n",
       "Cloud_Condition  Partly Cloudy  Windy  Windy and Dry  Windy and Foggy  \\\n",
       "Rain_OR_SNOW                                                            \n",
       "rain                     16598      5              1                2   \n",
       "snow                       992      0              0                1   \n",
       "\n",
       "Cloud_Condition  Windy and Mostly Cloudy  Windy and Overcast  \\\n",
       "Rain_OR_SNOW                                                   \n",
       "rain                                  32                  40   \n",
       "snow                                   0                   3   \n",
       "\n",
       "Cloud_Condition  Windy and Partly Cloudy  \n",
       "Rain_OR_SNOW                              \n",
       "rain                                  63  \n",
       "snow                                   0  "
      ]
     },
     "execution_count": 36,
     "metadata": {},
     "output_type": "execute_result"
    }
   ],
   "source": [
    "pd.crosstab(df['Rain_OR_SNOW'],df['Cloud_Condition'])"
   ]
  },
  {
   "cell_type": "code",
   "execution_count": 38,
   "metadata": {},
   "outputs": [
    {
     "data": {
      "text/html": [
       "<div>\n",
       "<style scoped>\n",
       "    .dataframe tbody tr th:only-of-type {\n",
       "        vertical-align: middle;\n",
       "    }\n",
       "\n",
       "    .dataframe tbody tr th {\n",
       "        vertical-align: top;\n",
       "    }\n",
       "\n",
       "    .dataframe thead th {\n",
       "        text-align: right;\n",
       "    }\n",
       "</style>\n",
       "<table border=\"1\" class=\"dataframe\">\n",
       "  <thead>\n",
       "    <tr style=\"text-align: right;\">\n",
       "      <th>Cloud_Condition</th>\n",
       "      <th>Breezy</th>\n",
       "      <th>Breezy and Dry</th>\n",
       "      <th>Breezy and Foggy</th>\n",
       "      <th>Breezy and Mostly Cloudy</th>\n",
       "      <th>Breezy and Overcast</th>\n",
       "      <th>Breezy and Partly Cloudy</th>\n",
       "      <th>Clear</th>\n",
       "      <th>Dangerously Windy and Partly Cloudy</th>\n",
       "      <th>Drizzle</th>\n",
       "      <th>Dry</th>\n",
       "      <th>Dry and Mostly Cloudy</th>\n",
       "      <th>Dry and Partly Cloudy</th>\n",
       "      <th>Foggy</th>\n",
       "      <th>Humid and Mostly Cloudy</th>\n",
       "      <th>Humid and Overcast</th>\n",
       "      <th>Humid and Partly Cloudy</th>\n",
       "      <th>Light Rain</th>\n",
       "      <th>Mostly Cloudy</th>\n",
       "      <th>Overcast</th>\n",
       "      <th>Partly Cloudy</th>\n",
       "      <th>Windy</th>\n",
       "      <th>Windy and Dry</th>\n",
       "      <th>Windy and Foggy</th>\n",
       "      <th>Windy and Mostly Cloudy</th>\n",
       "      <th>Windy and Overcast</th>\n",
       "      <th>Windy and Partly Cloudy</th>\n",
       "    </tr>\n",
       "    <tr>\n",
       "      <th>Condensation</th>\n",
       "      <th></th>\n",
       "      <th></th>\n",
       "      <th></th>\n",
       "      <th></th>\n",
       "      <th></th>\n",
       "      <th></th>\n",
       "      <th></th>\n",
       "      <th></th>\n",
       "      <th></th>\n",
       "      <th></th>\n",
       "      <th></th>\n",
       "      <th></th>\n",
       "      <th></th>\n",
       "      <th></th>\n",
       "      <th></th>\n",
       "      <th></th>\n",
       "      <th></th>\n",
       "      <th></th>\n",
       "      <th></th>\n",
       "      <th></th>\n",
       "      <th></th>\n",
       "      <th></th>\n",
       "      <th></th>\n",
       "      <th></th>\n",
       "      <th></th>\n",
       "      <th></th>\n",
       "    </tr>\n",
       "  </thead>\n",
       "  <tbody>\n",
       "    <tr>\n",
       "      <th>Dry</th>\n",
       "      <td>7</td>\n",
       "      <td>139</td>\n",
       "      <td>7</td>\n",
       "      <td>101</td>\n",
       "      <td>92</td>\n",
       "      <td>74</td>\n",
       "      <td>1974</td>\n",
       "      <td>0</td>\n",
       "      <td>0</td>\n",
       "      <td>8</td>\n",
       "      <td>3</td>\n",
       "      <td>14</td>\n",
       "      <td>1096</td>\n",
       "      <td>7</td>\n",
       "      <td>1</td>\n",
       "      <td>5</td>\n",
       "      <td>39</td>\n",
       "      <td>4303</td>\n",
       "      <td>2712</td>\n",
       "      <td>3512</td>\n",
       "      <td>1</td>\n",
       "      <td>1</td>\n",
       "      <td>0</td>\n",
       "      <td>5</td>\n",
       "      <td>11</td>\n",
       "      <td>15</td>\n",
       "    </tr>\n",
       "    <tr>\n",
       "      <th>Fog</th>\n",
       "      <td>16</td>\n",
       "      <td>176</td>\n",
       "      <td>11</td>\n",
       "      <td>149</td>\n",
       "      <td>121</td>\n",
       "      <td>103</td>\n",
       "      <td>2899</td>\n",
       "      <td>0</td>\n",
       "      <td>1</td>\n",
       "      <td>10</td>\n",
       "      <td>5</td>\n",
       "      <td>24</td>\n",
       "      <td>1799</td>\n",
       "      <td>10</td>\n",
       "      <td>1</td>\n",
       "      <td>4</td>\n",
       "      <td>67</td>\n",
       "      <td>6537</td>\n",
       "      <td>4041</td>\n",
       "      <td>5210</td>\n",
       "      <td>1</td>\n",
       "      <td>0</td>\n",
       "      <td>1</td>\n",
       "      <td>7</td>\n",
       "      <td>13</td>\n",
       "      <td>16</td>\n",
       "    </tr>\n",
       "    <tr>\n",
       "      <th>Frost</th>\n",
       "      <td>14</td>\n",
       "      <td>134</td>\n",
       "      <td>4</td>\n",
       "      <td>93</td>\n",
       "      <td>94</td>\n",
       "      <td>71</td>\n",
       "      <td>1956</td>\n",
       "      <td>1</td>\n",
       "      <td>2</td>\n",
       "      <td>4</td>\n",
       "      <td>4</td>\n",
       "      <td>22</td>\n",
       "      <td>1223</td>\n",
       "      <td>7</td>\n",
       "      <td>1</td>\n",
       "      <td>5</td>\n",
       "      <td>41</td>\n",
       "      <td>4401</td>\n",
       "      <td>2798</td>\n",
       "      <td>3489</td>\n",
       "      <td>2</td>\n",
       "      <td>0</td>\n",
       "      <td>2</td>\n",
       "      <td>5</td>\n",
       "      <td>4</td>\n",
       "      <td>17</td>\n",
       "    </tr>\n",
       "    <tr>\n",
       "      <th>Mist</th>\n",
       "      <td>8</td>\n",
       "      <td>207</td>\n",
       "      <td>12</td>\n",
       "      <td>130</td>\n",
       "      <td>147</td>\n",
       "      <td>102</td>\n",
       "      <td>2890</td>\n",
       "      <td>0</td>\n",
       "      <td>2</td>\n",
       "      <td>12</td>\n",
       "      <td>2</td>\n",
       "      <td>26</td>\n",
       "      <td>1782</td>\n",
       "      <td>8</td>\n",
       "      <td>2</td>\n",
       "      <td>3</td>\n",
       "      <td>67</td>\n",
       "      <td>6776</td>\n",
       "      <td>4061</td>\n",
       "      <td>5402</td>\n",
       "      <td>1</td>\n",
       "      <td>0</td>\n",
       "      <td>0</td>\n",
       "      <td>15</td>\n",
       "      <td>15</td>\n",
       "      <td>15</td>\n",
       "    </tr>\n",
       "  </tbody>\n",
       "</table>\n",
       "</div>"
      ],
      "text/plain": [
       "Cloud_Condition  Breezy  Breezy and Dry  Breezy and Foggy  \\\n",
       "Condensation                                                \n",
       "Dry                   7             139                 7   \n",
       "Fog                  16             176                11   \n",
       "Frost                14             134                 4   \n",
       "Mist                  8             207                12   \n",
       "\n",
       "Cloud_Condition  Breezy and Mostly Cloudy  Breezy and Overcast  \\\n",
       "Condensation                                                     \n",
       "Dry                                   101                   92   \n",
       "Fog                                   149                  121   \n",
       "Frost                                  93                   94   \n",
       "Mist                                  130                  147   \n",
       "\n",
       "Cloud_Condition  Breezy and Partly Cloudy  Clear  \\\n",
       "Condensation                                       \n",
       "Dry                                    74   1974   \n",
       "Fog                                   103   2899   \n",
       "Frost                                  71   1956   \n",
       "Mist                                  102   2890   \n",
       "\n",
       "Cloud_Condition  Dangerously Windy and Partly Cloudy  Drizzle  Dry  \\\n",
       "Condensation                                                         \n",
       "Dry                                                0        0    8   \n",
       "Fog                                                0        1   10   \n",
       "Frost                                              1        2    4   \n",
       "Mist                                               0        2   12   \n",
       "\n",
       "Cloud_Condition  Dry and Mostly Cloudy  Dry and Partly Cloudy  Foggy  \\\n",
       "Condensation                                                           \n",
       "Dry                                  3                     14   1096   \n",
       "Fog                                  5                     24   1799   \n",
       "Frost                                4                     22   1223   \n",
       "Mist                                 2                     26   1782   \n",
       "\n",
       "Cloud_Condition  Humid and Mostly Cloudy  Humid and Overcast  \\\n",
       "Condensation                                                   \n",
       "Dry                                    7                   1   \n",
       "Fog                                   10                   1   \n",
       "Frost                                  7                   1   \n",
       "Mist                                   8                   2   \n",
       "\n",
       "Cloud_Condition  Humid and Partly Cloudy  Light Rain  Mostly Cloudy  Overcast  \\\n",
       "Condensation                                                                    \n",
       "Dry                                    5          39           4303      2712   \n",
       "Fog                                    4          67           6537      4041   \n",
       "Frost                                  5          41           4401      2798   \n",
       "Mist                                   3          67           6776      4061   \n",
       "\n",
       "Cloud_Condition  Partly Cloudy  Windy  Windy and Dry  Windy and Foggy  \\\n",
       "Condensation                                                            \n",
       "Dry                       3512      1              1                0   \n",
       "Fog                       5210      1              0                1   \n",
       "Frost                     3489      2              0                2   \n",
       "Mist                      5402      1              0                0   \n",
       "\n",
       "Cloud_Condition  Windy and Mostly Cloudy  Windy and Overcast  \\\n",
       "Condensation                                                   \n",
       "Dry                                    5                  11   \n",
       "Fog                                    7                  13   \n",
       "Frost                                  5                   4   \n",
       "Mist                                  15                  15   \n",
       "\n",
       "Cloud_Condition  Windy and Partly Cloudy  \n",
       "Condensation                              \n",
       "Dry                                   15  \n",
       "Fog                                   16  \n",
       "Frost                                 17  \n",
       "Mist                                  15  "
      ]
     },
     "execution_count": 38,
     "metadata": {},
     "output_type": "execute_result"
    }
   ],
   "source": [
    "pd.crosstab(df['Condensation'],df['Cloud_Condition'])"
   ]
  },
  {
   "cell_type": "code",
   "execution_count": 40,
   "metadata": {},
   "outputs": [
    {
     "data": {
      "text/plain": [
       "Text(0.5, 1.0, 'Rain_OR_SNOW')"
      ]
     },
     "execution_count": 40,
     "metadata": {},
     "output_type": "execute_result"
    },
    {
     "data": {
      "image/png": "[encoded data removed]",
      "text/plain": [
       "<Figure size 432x288 with 1 Axes>"
      ]
     },
     "metadata": {
      "needs_background": "light"
     },
     "output_type": "display_data"
    }
   ],
   "source": [
    "pd.crosstab(df.Cloud_Condition,df.Rain_OR_SNOW).plot(kind='bar')\n",
    "plt.title('Rain_OR_SNOW')"
   ]
  },
  {
   "cell_type": "code",
   "execution_count": 42,
   "metadata": {},
   "outputs": [
    {
     "data": {
      "text/plain": [
       "<matplotlib.axes._subplots.AxesSubplot at 0x22985ea59c8>"
      ]
     },
     "execution_count": 42,
     "metadata": {},
     "output_type": "execute_result"
    },
    {
     "data": {
      "image/png": "[encoded data removed]",
      "text/plain": [
       "<Figure size 432x288 with 1 Axes>"
      ]
     },
     "metadata": {
      "needs_background": "light"
     },
     "output_type": "display_data"
    }
   ],
   "source": [
    "pd.crosstab(df['Cloud_Condition'],df['Condensation']).plot(kind='bar')"
   ]
  },
  {
   "cell_type": "code",
   "execution_count": 57,
   "metadata": {},
   "outputs": [],
   "source": [
    "# teating missing value"
   ]
  },
  {
   "cell_type": "code",
   "execution_count": 58,
   "metadata": {},
   "outputs": [],
   "source": [
    "Cont_features = [feature for feature in df.columns if df[feature].dtype =='O']"
   ]
  },
  {
   "cell_type": "code",
   "execution_count": 67,
   "metadata": {},
   "outputs": [
    {
     "name": "stdout",
     "output_type": "stream",
     "text": [
      "Cloud_Condition  :  0.0\n",
      "Rain_OR_SNOW  :  0.00161\n",
      "Temperature (C)  :  0.00353\n",
      "Condensation  :  0.0\n"
     ]
    }
   ],
   "source": [
    "for feature in Cont_features:\n",
    "    print(feature ,\" : \",round(df[feature].isna().mean(),5))"
   ]
  },
  {
   "cell_type": "code",
   "execution_count": 77,
   "metadata": {},
   "outputs": [
    {
     "name": "stdout",
     "output_type": "stream",
     "text": [
      "Day  :  0.0\n",
      "Apparent Temperature (C)  :  4.200033600268802e-05\n",
      "Humidity  :  1.4000112000896008e-05\n",
      "Wind Speed (km/h)  :  2.8000224001792016e-05\n",
      "Wind Bearing (degrees)  :  0.0005180041440331522\n",
      "Visibility (km)  :  0.00028000224001792015\n",
      "Pressure (millibars)  :  0.0009100072800582405\n",
      "Solar irradiance intensity  :  0.0\n"
     ]
    }
   ],
   "source": [
    "for feature in Numerical_feature:\n",
    "    print(feature ,\" : \",df[feature].isna().mean())"
   ]
  },
  {
   "cell_type": "code",
   "execution_count": 75,
   "metadata": {},
   "outputs": [],
   "source": [
    "null_feature = [ feature for feature in df.columns if df[feature].isnull().sum()>0]"
   ]
  },
  {
   "cell_type": "code",
   "execution_count": 76,
   "metadata": {},
   "outputs": [
    {
     "data": {
      "text/plain": [
       "['Rain_OR_SNOW',\n",
       " 'Temperature (C)',\n",
       " 'Apparent Temperature (C)',\n",
       " 'Humidity',\n",
       " 'Wind Speed (km/h)',\n",
       " 'Wind Bearing (degrees)',\n",
       " 'Visibility (km)',\n",
       " 'Pressure (millibars)']"
      ]
     },
     "execution_count": 76,
     "metadata": {},
     "output_type": "execute_result"
    }
   ],
   "source": [
    "null_feature"
   ]
  },
  {
   "cell_type": "code",
   "execution_count": 78,
   "metadata": {},
   "outputs": [],
   "source": [
    "# as we can see first feature is categorical feature and rest of the features are numerical so we treat their missing value accordingly"
   ]
  },
  {
   "cell_type": "code",
   "execution_count": 83,
   "metadata": {},
   "outputs": [],
   "source": [
    "temp = df['Temperature (C)']"
   ]
  },
  {
   "cell_type": "code",
   "execution_count": 85,
   "metadata": {},
   "outputs": [
    {
     "data": {
      "text/plain": [
       "array(['-13', '15', '33', '30', '27', '-17', '-5', '-14', '10', '7', '9',\n",
       "       '20', '3', '29', '-8', '-15', '-20', '36', '32', '6', '17', '28',\n",
       "       '-21', '23', '-4', '25', '-7', '16', '39', '-1', '13', '35', '22',\n",
       "       '12', '14', '1', '8', '-3', '38', '5', '37', '-10', '19', '34',\n",
       "       '26', '0', '24', '11', '21', '-9', '-2', '4', '-19', '-6', '2',\n",
       "       '-16', '-11', '18', '31', '-18', '-12', nan, '-', 16, 30, 17, -13,\n",
       "       36, 4, 9, 10, 13, 27, -8, -16, 34, 2, -11, -9, -10, -5, 39, 14, 7,\n",
       "       20, -3, 15, 24, 35, 25, -12, 26, -14, 19, 5, 38, -4, -17, 0, 8, 21,\n",
       "       -20, -21, 37, 22, 11, 28, 12, -18, 29, 1, -2, -7, -6, 33, 3, 32,\n",
       "       -1, 6, -15, 18, 23, 31, -19], dtype=object)"
      ]
     },
     "execution_count": 85,
     "metadata": {},
     "output_type": "execute_result"
    }
   ],
   "source": [
    "temp.unique()"
   ]
  },
  {
   "cell_type": "code",
   "execution_count": 104,
   "metadata": {},
   "outputs": [],
   "source": [
    "df['Temperature (C)'].replace(\"-\",np.nan, inplace=True)"
   ]
  },
  {
   "cell_type": "code",
   "execution_count": 105,
   "metadata": {},
   "outputs": [
    {
     "data": {
      "text/plain": [
       "array(['-13', '15', '33', '30', '27', '-17', '-5', '-14', '10', '7', '9',\n",
       "       '20', '3', '29', '-8', '-15', '-20', '36', '32', '6', '17', '28',\n",
       "       '-21', '23', '-4', '25', '-7', '16', '39', '-1', '13', '35', '22',\n",
       "       '12', '14', '1', '8', '-3', '38', '5', '37', '-10', '19', '34',\n",
       "       '26', '0', '24', '11', '21', '-9', '-2', '4', '-19', '-6', '2',\n",
       "       '-16', '-11', '18', '31', '-18', '-12', nan, 16, 30, 17, -13, 36,\n",
       "       4, 9, 10, 13, 27, -8, -16, 34, 2, -11, -9, -10, -5, 39, 14, 7, 20,\n",
       "       -3, 15, 24, 35, 25, -12, 26, -14, 19, 5, 38, -4, -17, 0, 8, 21,\n",
       "       -20, -21, 37, 22, 11, 28, 12, -18, 29, 1, -2, -7, -6, 33, 3, 32,\n",
       "       -1, 6, -15, 18, 23, 31, -19], dtype=object)"
      ]
     },
     "execution_count": 105,
     "metadata": {},
     "output_type": "execute_result"
    }
   ],
   "source": [
    "df['Temperature (C)'].unique()"
   ]
  },
  {
   "cell_type": "code",
   "execution_count": 108,
   "metadata": {},
   "outputs": [],
   "source": [
    "data = df.astype({'Temperature (C)': 'float64'})"
   ]
  },
  {
   "cell_type": "code",
   "execution_count": 110,
   "metadata": {},
   "outputs": [
    {
     "name": "stdout",
     "output_type": "stream",
     "text": [
      "<class 'pandas.core.frame.DataFrame'>\n",
      "RangeIndex: 71428 entries, 0 to 71427\n",
      "Data columns (total 12 columns):\n",
      " #   Column                      Non-Null Count  Dtype  \n",
      "---  ------                      --------------  -----  \n",
      " 0   Day                         71428 non-null  int64  \n",
      " 1   Cloud_Condition             71428 non-null  object \n",
      " 2   Rain_OR_SNOW                71313 non-null  object \n",
      " 3   Temperature (C)             71175 non-null  float64\n",
      " 4   Apparent Temperature (C)    71425 non-null  float64\n",
      " 5   Humidity                    71427 non-null  float64\n",
      " 6   Wind Speed (km/h)           71426 non-null  float64\n",
      " 7   Wind Bearing (degrees)      71391 non-null  float64\n",
      " 8   Visibility (km)             71408 non-null  float64\n",
      " 9   Pressure (millibars)        71363 non-null  float64\n",
      " 10  Condensation                71428 non-null  object \n",
      " 11  Solar irradiance intensity  71428 non-null  int64  \n",
      "dtypes: float64(7), int64(2), object(3)\n",
      "memory usage: 6.5+ MB\n"
     ]
    }
   ],
   "source": [
    "data.info()"
   ]
  },
  {
   "cell_type": "code",
   "execution_count": 112,
   "metadata": {},
   "outputs": [
    {
     "data": {
      "text/plain": [
       "['Rain_OR_SNOW',\n",
       " 'Temperature (C)',\n",
       " 'Apparent Temperature (C)',\n",
       " 'Humidity',\n",
       " 'Wind Speed (km/h)',\n",
       " 'Wind Bearing (degrees)',\n",
       " 'Visibility (km)',\n",
       " 'Pressure (millibars)']"
      ]
     },
     "execution_count": 112,
     "metadata": {},
     "output_type": "execute_result"
    }
   ],
   "source": [
    "null_feature"
   ]
  },
  {
   "cell_type": "code",
   "execution_count": 115,
   "metadata": {},
   "outputs": [
    {
     "data": {
      "text/plain": [
       "rain    0.873838\n",
       "snow    0.126162\n",
       "Name: Rain_OR_SNOW, dtype: float64"
      ]
     },
     "execution_count": 115,
     "metadata": {},
     "output_type": "execute_result"
    }
   ],
   "source": [
    "data['Rain_OR_SNOW'].value_counts(normalize=True)"
   ]
  },
  {
   "cell_type": "code",
   "execution_count": 117,
   "metadata": {},
   "outputs": [],
   "source": [
    "data['Rain_OR_SNOW'].fillna('rain', inplace=True)"
   ]
  },
  {
   "cell_type": "code",
   "execution_count": 122,
   "metadata": {},
   "outputs": [],
   "source": [
    "data.fillna(data.median(),inplace=True)"
   ]
  },
  {
   "cell_type": "code",
   "execution_count": 123,
   "metadata": {},
   "outputs": [
    {
     "data": {
      "text/plain": [
       "Day                           0\n",
       "Cloud_Condition               0\n",
       "Rain_OR_SNOW                  0\n",
       "Temperature (C)               0\n",
       "Apparent Temperature (C)      0\n",
       "Humidity                      0\n",
       "Wind Speed (km/h)             0\n",
       "Wind Bearing (degrees)        0\n",
       "Visibility (km)               0\n",
       "Pressure (millibars)          0\n",
       "Condensation                  0\n",
       "Solar irradiance intensity    0\n",
       "dtype: int64"
      ]
     },
     "execution_count": 123,
     "metadata": {},
     "output_type": "execute_result"
    }
   ],
   "source": [
    "data.isna().sum()"
   ]
  },
  {
   "cell_type": "code",
   "execution_count": 125,
   "metadata": {},
   "outputs": [
    {
     "data": {
      "text/html": [
       "<div>\n",
       "<style scoped>\n",
       "    .dataframe tbody tr th:only-of-type {\n",
       "        vertical-align: middle;\n",
       "    }\n",
       "\n",
       "    .dataframe tbody tr th {\n",
       "        vertical-align: top;\n",
       "    }\n",
       "\n",
       "    .dataframe thead th {\n",
       "        text-align: right;\n",
       "    }\n",
       "</style>\n",
       "<table border=\"1\" class=\"dataframe\">\n",
       "  <thead>\n",
       "    <tr style=\"text-align: right;\">\n",
       "      <th></th>\n",
       "      <th>Day</th>\n",
       "      <th>Cloud_Condition</th>\n",
       "      <th>Rain_OR_SNOW</th>\n",
       "      <th>Temperature (C)</th>\n",
       "      <th>Apparent Temperature (C)</th>\n",
       "      <th>Humidity</th>\n",
       "      <th>Wind Speed (km/h)</th>\n",
       "      <th>Wind Bearing (degrees)</th>\n",
       "      <th>Visibility (km)</th>\n",
       "      <th>Pressure (millibars)</th>\n",
       "      <th>Condensation</th>\n",
       "      <th>Solar irradiance intensity</th>\n",
       "    </tr>\n",
       "  </thead>\n",
       "  <tbody>\n",
       "    <tr>\n",
       "      <th>0</th>\n",
       "      <td>1</td>\n",
       "      <td>Partly Cloudy</td>\n",
       "      <td>rain</td>\n",
       "      <td>-13.0</td>\n",
       "      <td>-19.0</td>\n",
       "      <td>0.134364</td>\n",
       "      <td>17.0</td>\n",
       "      <td>68.0</td>\n",
       "      <td>4.0</td>\n",
       "      <td>1008.0</td>\n",
       "      <td>Frost</td>\n",
       "      <td>1068</td>\n",
       "    </tr>\n",
       "    <tr>\n",
       "      <th>1</th>\n",
       "      <td>2</td>\n",
       "      <td>Partly Cloudy</td>\n",
       "      <td>rain</td>\n",
       "      <td>15.0</td>\n",
       "      <td>5.0</td>\n",
       "      <td>0.847434</td>\n",
       "      <td>8.0</td>\n",
       "      <td>291.0</td>\n",
       "      <td>2.0</td>\n",
       "      <td>1036.0</td>\n",
       "      <td>Frost</td>\n",
       "      <td>1291</td>\n",
       "    </tr>\n",
       "    <tr>\n",
       "      <th>2</th>\n",
       "      <td>3</td>\n",
       "      <td>Partly Cloudy</td>\n",
       "      <td>rain</td>\n",
       "      <td>33.0</td>\n",
       "      <td>-12.0</td>\n",
       "      <td>0.763775</td>\n",
       "      <td>32.0</td>\n",
       "      <td>32.0</td>\n",
       "      <td>8.0</td>\n",
       "      <td>1004.0</td>\n",
       "      <td>Dry</td>\n",
       "      <td>1433</td>\n",
       "    </tr>\n",
       "    <tr>\n",
       "      <th>3</th>\n",
       "      <td>4</td>\n",
       "      <td>Partly Cloudy</td>\n",
       "      <td>snow</td>\n",
       "      <td>30.0</td>\n",
       "      <td>36.0</td>\n",
       "      <td>0.255069</td>\n",
       "      <td>15.0</td>\n",
       "      <td>130.0</td>\n",
       "      <td>3.0</td>\n",
       "      <td>1016.0</td>\n",
       "      <td>Dry</td>\n",
       "      <td>1410</td>\n",
       "    </tr>\n",
       "    <tr>\n",
       "      <th>4</th>\n",
       "      <td>5</td>\n",
       "      <td>Partly Cloudy</td>\n",
       "      <td>snow</td>\n",
       "      <td>27.0</td>\n",
       "      <td>30.0</td>\n",
       "      <td>0.495435</td>\n",
       "      <td>63.0</td>\n",
       "      <td>60.0</td>\n",
       "      <td>15.0</td>\n",
       "      <td>1007.0</td>\n",
       "      <td>Fog</td>\n",
       "      <td>1391</td>\n",
       "    </tr>\n",
       "  </tbody>\n",
       "</table>\n",
       "</div>"
      ],
      "text/plain": [
       "   Day Cloud_Condition Rain_OR_SNOW  Temperature (C)  \\\n",
       "0    1   Partly Cloudy         rain            -13.0   \n",
       "1    2   Partly Cloudy         rain             15.0   \n",
       "2    3   Partly Cloudy         rain             33.0   \n",
       "3    4   Partly Cloudy         snow             30.0   \n",
       "4    5   Partly Cloudy         snow             27.0   \n",
       "\n",
       "   Apparent Temperature (C)  Humidity  Wind Speed (km/h)  \\\n",
       "0                     -19.0  0.134364               17.0   \n",
       "1                       5.0  0.847434                8.0   \n",
       "2                     -12.0  0.763775               32.0   \n",
       "3                      36.0  0.255069               15.0   \n",
       "4                      30.0  0.495435               63.0   \n",
       "\n",
       "   Wind Bearing (degrees)  Visibility (km)  Pressure (millibars) Condensation  \\\n",
       "0                    68.0              4.0                1008.0        Frost   \n",
       "1                   291.0              2.0                1036.0        Frost   \n",
       "2                    32.0              8.0                1004.0          Dry   \n",
       "3                   130.0              3.0                1016.0          Dry   \n",
       "4                    60.0             15.0                1007.0          Fog   \n",
       "\n",
       "   Solar irradiance intensity  \n",
       "0                        1068  \n",
       "1                        1291  \n",
       "2                        1433  \n",
       "3                        1410  \n",
       "4                        1391  "
      ]
     },
     "execution_count": 125,
     "metadata": {},
     "output_type": "execute_result"
    }
   ],
   "source": [
    "data.head()"
   ]
  },
  {
   "cell_type": "code",
   "execution_count": 261,
   "metadata": {},
   "outputs": [],
   "source": [
    "from sklearn.preprocessing import LabelEncoder\n",
    "from sklearn.preprocessing import StandardScaler"
   ]
  },
  {
   "cell_type": "code",
   "execution_count": 262,
   "metadata": {},
   "outputs": [],
   "source": [
    "X = data.drop(['Day','Cloud_Condition'], axis = 1)"
   ]
  },
  {
   "cell_type": "code",
   "execution_count": 263,
   "metadata": {},
   "outputs": [],
   "source": [
    "y = data['Cloud_Condition']"
   ]
  },
  {
   "cell_type": "code",
   "execution_count": 264,
   "metadata": {},
   "outputs": [],
   "source": [
    "y_n = LabelEncoder().fit_transform(y)"
   ]
  },
  {
   "cell_type": "code",
   "execution_count": 265,
   "metadata": {},
   "outputs": [],
   "source": [
    "cat = [f for f in X.columns if X[f].dtype == 'O']\n"
   ]
  },
  {
   "cell_type": "code",
   "execution_count": 266,
   "metadata": {},
   "outputs": [],
   "source": [
    "new = pd.get_dummies(df[cat],drop_first=True)"
   ]
  },
  {
   "cell_type": "code",
   "execution_count": 267,
   "metadata": {},
   "outputs": [],
   "source": [
    "X_n = pd.concat([X, new], axis = 1)"
   ]
  },
  {
   "cell_type": "code",
   "execution_count": 268,
   "metadata": {},
   "outputs": [],
   "source": [
    "X_n.drop(['Rain_OR_SNOW','Condensation'], axis = 1, inplace=True)"
   ]
  },
  {
   "cell_type": "code",
   "execution_count": 269,
   "metadata": {},
   "outputs": [
    {
     "data": {
      "text/html": [
       "<div>\n",
       "<style scoped>\n",
       "    .dataframe tbody tr th:only-of-type {\n",
       "        vertical-align: middle;\n",
       "    }\n",
       "\n",
       "    .dataframe tbody tr th {\n",
       "        vertical-align: top;\n",
       "    }\n",
       "\n",
       "    .dataframe thead th {\n",
       "        text-align: right;\n",
       "    }\n",
       "</style>\n",
       "<table border=\"1\" class=\"dataframe\">\n",
       "  <thead>\n",
       "    <tr style=\"text-align: right;\">\n",
       "      <th></th>\n",
       "      <th>Temperature (C)</th>\n",
       "      <th>Apparent Temperature (C)</th>\n",
       "      <th>Humidity</th>\n",
       "      <th>Wind Speed (km/h)</th>\n",
       "      <th>Wind Bearing (degrees)</th>\n",
       "      <th>Visibility (km)</th>\n",
       "      <th>Pressure (millibars)</th>\n",
       "      <th>Solar irradiance intensity</th>\n",
       "      <th>Rain_OR_SNOW_snow</th>\n",
       "      <th>Condensation_Fog</th>\n",
       "      <th>Condensation_Frost</th>\n",
       "      <th>Condensation_Mist</th>\n",
       "    </tr>\n",
       "  </thead>\n",
       "  <tbody>\n",
       "    <tr>\n",
       "      <th>0</th>\n",
       "      <td>-13.0</td>\n",
       "      <td>-19.0</td>\n",
       "      <td>0.134364</td>\n",
       "      <td>17.0</td>\n",
       "      <td>68.0</td>\n",
       "      <td>4.0</td>\n",
       "      <td>1008.0</td>\n",
       "      <td>1068</td>\n",
       "      <td>0</td>\n",
       "      <td>0</td>\n",
       "      <td>1</td>\n",
       "      <td>0</td>\n",
       "    </tr>\n",
       "    <tr>\n",
       "      <th>1</th>\n",
       "      <td>15.0</td>\n",
       "      <td>5.0</td>\n",
       "      <td>0.847434</td>\n",
       "      <td>8.0</td>\n",
       "      <td>291.0</td>\n",
       "      <td>2.0</td>\n",
       "      <td>1036.0</td>\n",
       "      <td>1291</td>\n",
       "      <td>0</td>\n",
       "      <td>0</td>\n",
       "      <td>1</td>\n",
       "      <td>0</td>\n",
       "    </tr>\n",
       "    <tr>\n",
       "      <th>2</th>\n",
       "      <td>33.0</td>\n",
       "      <td>-12.0</td>\n",
       "      <td>0.763775</td>\n",
       "      <td>32.0</td>\n",
       "      <td>32.0</td>\n",
       "      <td>8.0</td>\n",
       "      <td>1004.0</td>\n",
       "      <td>1433</td>\n",
       "      <td>0</td>\n",
       "      <td>0</td>\n",
       "      <td>0</td>\n",
       "      <td>0</td>\n",
       "    </tr>\n",
       "    <tr>\n",
       "      <th>3</th>\n",
       "      <td>30.0</td>\n",
       "      <td>36.0</td>\n",
       "      <td>0.255069</td>\n",
       "      <td>15.0</td>\n",
       "      <td>130.0</td>\n",
       "      <td>3.0</td>\n",
       "      <td>1016.0</td>\n",
       "      <td>1410</td>\n",
       "      <td>1</td>\n",
       "      <td>0</td>\n",
       "      <td>0</td>\n",
       "      <td>0</td>\n",
       "    </tr>\n",
       "    <tr>\n",
       "      <th>4</th>\n",
       "      <td>27.0</td>\n",
       "      <td>30.0</td>\n",
       "      <td>0.495435</td>\n",
       "      <td>63.0</td>\n",
       "      <td>60.0</td>\n",
       "      <td>15.0</td>\n",
       "      <td>1007.0</td>\n",
       "      <td>1391</td>\n",
       "      <td>1</td>\n",
       "      <td>1</td>\n",
       "      <td>0</td>\n",
       "      <td>0</td>\n",
       "    </tr>\n",
       "  </tbody>\n",
       "</table>\n",
       "</div>"
      ],
      "text/plain": [
       "   Temperature (C)  Apparent Temperature (C)  Humidity  Wind Speed (km/h)  \\\n",
       "0            -13.0                     -19.0  0.134364               17.0   \n",
       "1             15.0                       5.0  0.847434                8.0   \n",
       "2             33.0                     -12.0  0.763775               32.0   \n",
       "3             30.0                      36.0  0.255069               15.0   \n",
       "4             27.0                      30.0  0.495435               63.0   \n",
       "\n",
       "   Wind Bearing (degrees)  Visibility (km)  Pressure (millibars)  \\\n",
       "0                    68.0              4.0                1008.0   \n",
       "1                   291.0              2.0                1036.0   \n",
       "2                    32.0              8.0                1004.0   \n",
       "3                   130.0              3.0                1016.0   \n",
       "4                    60.0             15.0                1007.0   \n",
       "\n",
       "   Solar irradiance intensity  Rain_OR_SNOW_snow  Condensation_Fog  \\\n",
       "0                        1068                  0                 0   \n",
       "1                        1291                  0                 0   \n",
       "2                        1433                  0                 0   \n",
       "3                        1410                  1                 0   \n",
       "4                        1391                  1                 1   \n",
       "\n",
       "   Condensation_Frost  Condensation_Mist  \n",
       "0                   1                  0  \n",
       "1                   1                  0  \n",
       "2                   0                  0  \n",
       "3                   0                  0  \n",
       "4                   0                  0  "
      ]
     },
     "execution_count": 269,
     "metadata": {},
     "output_type": "execute_result"
    }
   ],
   "source": [
    "X_n.head()"
   ]
  },
  {
   "cell_type": "code",
   "execution_count": 270,
   "metadata": {},
   "outputs": [
    {
     "data": {
      "text/plain": [
       "<matplotlib.axes._subplots.AxesSubplot at 0x2298e718988>"
      ]
     },
     "execution_count": 270,
     "metadata": {},
     "output_type": "execute_result"
    },
    {
     "data": {
      "image/png": "[encoded data removed]",
      "text/plain": [
       "<Figure size 432x288 with 2 Axes>"
      ]
     },
     "metadata": {
      "needs_background": "light"
     },
     "output_type": "display_data"
    }
   ],
   "source": [
    "import seaborn as sns\n",
    "sns.heatmap(X.corr().round(2))"
   ]
  },
  {
   "cell_type": "code",
   "execution_count": 271,
   "metadata": {},
   "outputs": [],
   "source": [
    "from sklearn.model_selection import train_test_split"
   ]
  },
  {
   "cell_type": "code",
   "execution_count": 272,
   "metadata": {},
   "outputs": [],
   "source": [
    "x_train,x_test,y_train,y_test = train_test_split(X_n,y_n,test_size = 0.3, random_state=0)"
   ]
  },
  {
   "cell_type": "code",
   "execution_count": 273,
   "metadata": {},
   "outputs": [],
   "source": [
    "from sklearn.tree import DecisionTreeClassifier"
   ]
  },
  {
   "cell_type": "code",
   "execution_count": 274,
   "metadata": {},
   "outputs": [],
   "source": [
    "dt = DecisionTreeClassifier()"
   ]
  },
  {
   "cell_type": "code",
   "execution_count": 275,
   "metadata": {},
   "outputs": [
    {
     "data": {
      "text/plain": [
       "DecisionTreeClassifier()"
      ]
     },
     "execution_count": 275,
     "metadata": {},
     "output_type": "execute_result"
    }
   ],
   "source": [
    "dt.fit(x_train,y_train)"
   ]
  },
  {
   "cell_type": "code",
   "execution_count": 276,
   "metadata": {},
   "outputs": [
    {
     "data": {
      "text/plain": [
       "0.2273554528909422"
      ]
     },
     "execution_count": 276,
     "metadata": {},
     "output_type": "execute_result"
    }
   ],
   "source": [
    "dt.score(x_test,y_test)"
   ]
  },
  {
   "cell_type": "code",
   "execution_count": 277,
   "metadata": {},
   "outputs": [
    {
     "data": {
      "text/plain": [
       "array([0.11153214, 0.10439999, 0.14311132, 0.11101224, 0.13139848,\n",
       "       0.08402762, 0.10913688, 0.13200855, 0.01732771, 0.02037357,\n",
       "       0.01679354, 0.01887795])"
      ]
     },
     "execution_count": 277,
     "metadata": {},
     "output_type": "execute_result"
    }
   ],
   "source": [
    "dt.feature_importances_"
   ]
  },
  {
   "cell_type": "code",
   "execution_count": 278,
   "metadata": {},
   "outputs": [],
   "source": [
    "y_pred_dt = dt.predict(x_test)"
   ]
  },
  {
   "cell_type": "code",
   "execution_count": 279,
   "metadata": {},
   "outputs": [
    {
     "data": {
      "text/plain": [
       "array([ 6, 18, 18, ..., 17, 17, 17])"
      ]
     },
     "execution_count": 279,
     "metadata": {},
     "output_type": "execute_result"
    }
   ],
   "source": [
    "y_test"
   ]
  },
  {
   "cell_type": "code",
   "execution_count": 280,
   "metadata": {},
   "outputs": [
    {
     "data": {
      "text/plain": [
       "0.2273554528909422"
      ]
     },
     "execution_count": 280,
     "metadata": {},
     "output_type": "execute_result"
    }
   ],
   "source": [
    "accuracy_score(y_test,y_pred_dt)"
   ]
  },
  {
   "cell_type": "code",
   "execution_count": 281,
   "metadata": {},
   "outputs": [],
   "source": [
    "from sklearn.ensemble import RandomForestClassifier"
   ]
  },
  {
   "cell_type": "code",
   "execution_count": 282,
   "metadata": {},
   "outputs": [],
   "source": [
    "rf = RandomForestClassifier()"
   ]
  },
  {
   "cell_type": "code",
   "execution_count": 283,
   "metadata": {},
   "outputs": [
    {
     "data": {
      "text/plain": [
       "RandomForestClassifier()"
      ]
     },
     "execution_count": 283,
     "metadata": {},
     "output_type": "execute_result"
    }
   ],
   "source": [
    "rf.fit(x_train,y_train)"
   ]
  },
  {
   "cell_type": "code",
   "execution_count": 284,
   "metadata": {},
   "outputs": [
    {
     "data": {
      "text/plain": [
       "0.30295394092118155"
      ]
     },
     "execution_count": 284,
     "metadata": {},
     "output_type": "execute_result"
    }
   ],
   "source": [
    "rf.score(x_test,y_test)"
   ]
  },
  {
   "cell_type": "code",
   "execution_count": 285,
   "metadata": {},
   "outputs": [
    {
     "data": {
      "text/plain": [
       "array([0.11323975, 0.11399965, 0.13528486, 0.1136162 , 0.13012508,\n",
       "       0.0875344 , 0.10986802, 0.13102106, 0.01797652, 0.01712616,\n",
       "       0.01423295, 0.01597535])"
      ]
     },
     "execution_count": 285,
     "metadata": {},
     "output_type": "execute_result"
    }
   ],
   "source": [
    "rf.feature_importances_"
   ]
  },
  {
   "cell_type": "code",
   "execution_count": 286,
   "metadata": {},
   "outputs": [],
   "source": [
    "from sklearn.metrics import accuracy_score"
   ]
  },
  {
   "cell_type": "code",
   "execution_count": 287,
   "metadata": {},
   "outputs": [],
   "source": [
    "y_pred_rf = rf.predict(x_test)"
   ]
  },
  {
   "cell_type": "code",
   "execution_count": 288,
   "metadata": {},
   "outputs": [
    {
     "data": {
      "text/plain": [
       "0.30295394092118155"
      ]
     },
     "execution_count": 288,
     "metadata": {},
     "output_type": "execute_result"
    }
   ],
   "source": [
    "accuracy_score(y_test,y_pred_rf)"
   ]
  },
  {
   "cell_type": "code",
   "execution_count": 312,
   "metadata": {},
   "outputs": [
    {
     "data": {
      "text/plain": [
       "0.3280601054645574"
      ]
     },
     "execution_count": 312,
     "metadata": {},
     "output_type": "execute_result"
    }
   ],
   "source": [
    "ada = AdaBoostClassifier()\n",
    "ada.fit(x_train,y_train)\n",
    "ada.score(x_test,y_test)"
   ]
  },
  {
   "cell_type": "code",
   "execution_count": 313,
   "metadata": {},
   "outputs": [],
   "source": [
    "adat_pred = ada.predict(x_test)"
   ]
  },
  {
   "cell_type": "code",
   "execution_count": 315,
   "metadata": {},
   "outputs": [
    {
     "data": {
      "text/plain": [
       "{12, 17, 22}"
      ]
     },
     "execution_count": 315,
     "metadata": {},
     "output_type": "execute_result"
    }
   ],
   "source": [
    "set(adat_pred)"
   ]
  },
  {
   "cell_type": "code",
   "execution_count": 316,
   "metadata": {},
   "outputs": [
    {
     "data": {
      "text/plain": [
       "0.3262401418638294"
      ]
     },
     "execution_count": 316,
     "metadata": {},
     "output_type": "execute_result"
    }
   ],
   "source": [
    "xgb = XGBClassifier()\n",
    "xgb.fit(x_train,y_train)\n",
    "xgb.score(x_test,y_test)\n"
   ]
  },
  {
   "cell_type": "code",
   "execution_count": 317,
   "metadata": {},
   "outputs": [],
   "source": [
    "xgbt_pred = xgb.predict(x_test)"
   ]
  },
  {
   "cell_type": "code",
   "execution_count": 318,
   "metadata": {},
   "outputs": [
    {
     "data": {
      "text/plain": [
       "{6, 12, 17, 18, 19}"
      ]
     },
     "execution_count": 318,
     "metadata": {},
     "output_type": "execute_result"
    }
   ],
   "source": [
    "set(xgbt_pred)"
   ]
  },
  {
   "cell_type": "code",
   "execution_count": null,
   "metadata": {},
   "outputs": [],
   "source": []
  },
  {
   "cell_type": "code",
   "execution_count": 289,
   "metadata": {},
   "outputs": [],
   "source": [
    "df_t = pd.read_csv('test_CloudCondition.csv')"
   ]
  },
  {
   "cell_type": "code",
   "execution_count": 290,
   "metadata": {},
   "outputs": [
    {
     "data": {
      "text/html": [
       "<div>\n",
       "<style scoped>\n",
       "    .dataframe tbody tr th:only-of-type {\n",
       "        vertical-align: middle;\n",
       "    }\n",
       "\n",
       "    .dataframe tbody tr th {\n",
       "        vertical-align: top;\n",
       "    }\n",
       "\n",
       "    .dataframe thead th {\n",
       "        text-align: right;\n",
       "    }\n",
       "</style>\n",
       "<table border=\"1\" class=\"dataframe\">\n",
       "  <thead>\n",
       "    <tr style=\"text-align: right;\">\n",
       "      <th></th>\n",
       "      <th>Day</th>\n",
       "      <th>Rain_OR_SNOW</th>\n",
       "      <th>Temperature (C)</th>\n",
       "      <th>Apparent Temperature (C)</th>\n",
       "      <th>Humidity</th>\n",
       "      <th>Wind Speed (km/h)</th>\n",
       "      <th>Wind Bearing (degrees)</th>\n",
       "      <th>Visibility (km)</th>\n",
       "      <th>Pressure (millibars)</th>\n",
       "      <th>Condensation</th>\n",
       "      <th>Solar irradiance intensity</th>\n",
       "    </tr>\n",
       "  </thead>\n",
       "  <tbody>\n",
       "    <tr>\n",
       "      <th>0</th>\n",
       "      <td>80002</td>\n",
       "      <td>rain</td>\n",
       "      <td>1.0</td>\n",
       "      <td>0.0</td>\n",
       "      <td>0.078150</td>\n",
       "      <td>17.0</td>\n",
       "      <td>300</td>\n",
       "      <td>10.0</td>\n",
       "      <td>1029.0</td>\n",
       "      <td>Fog</td>\n",
       "      <td>1399</td>\n",
       "    </tr>\n",
       "    <tr>\n",
       "      <th>1</th>\n",
       "      <td>80003</td>\n",
       "      <td>rain</td>\n",
       "      <td>-3.0</td>\n",
       "      <td>25.0</td>\n",
       "      <td>0.653251</td>\n",
       "      <td>25.0</td>\n",
       "      <td>322</td>\n",
       "      <td>0.0</td>\n",
       "      <td>1009.0</td>\n",
       "      <td>Dry</td>\n",
       "      <td>1468</td>\n",
       "    </tr>\n",
       "    <tr>\n",
       "      <th>2</th>\n",
       "      <td>80004</td>\n",
       "      <td>rain</td>\n",
       "      <td>18.0</td>\n",
       "      <td>17.0</td>\n",
       "      <td>0.930970</td>\n",
       "      <td>37.0</td>\n",
       "      <td>330</td>\n",
       "      <td>12.0</td>\n",
       "      <td>1045.0</td>\n",
       "      <td>Dry</td>\n",
       "      <td>1152</td>\n",
       "    </tr>\n",
       "    <tr>\n",
       "      <th>3</th>\n",
       "      <td>80005</td>\n",
       "      <td>rain</td>\n",
       "      <td>33.0</td>\n",
       "      <td>-12.0</td>\n",
       "      <td>0.778844</td>\n",
       "      <td>50.0</td>\n",
       "      <td>350</td>\n",
       "      <td>3.0</td>\n",
       "      <td>1022.0</td>\n",
       "      <td>Fog</td>\n",
       "      <td>1003</td>\n",
       "    </tr>\n",
       "    <tr>\n",
       "      <th>4</th>\n",
       "      <td>80006</td>\n",
       "      <td>rain</td>\n",
       "      <td>25.0</td>\n",
       "      <td>-19.0</td>\n",
       "      <td>0.491523</td>\n",
       "      <td>62.0</td>\n",
       "      <td>300</td>\n",
       "      <td>12.0</td>\n",
       "      <td>1042.0</td>\n",
       "      <td>Fog</td>\n",
       "      <td>1228</td>\n",
       "    </tr>\n",
       "  </tbody>\n",
       "</table>\n",
       "</div>"
      ],
      "text/plain": [
       "     Day Rain_OR_SNOW  Temperature (C)  Apparent Temperature (C)  Humidity  \\\n",
       "0  80002         rain              1.0                       0.0  0.078150   \n",
       "1  80003         rain             -3.0                      25.0  0.653251   \n",
       "2  80004         rain             18.0                      17.0  0.930970   \n",
       "3  80005         rain             33.0                     -12.0  0.778844   \n",
       "4  80006         rain             25.0                     -19.0  0.491523   \n",
       "\n",
       "   Wind Speed (km/h)  Wind Bearing (degrees)  Visibility (km)  \\\n",
       "0               17.0                     300             10.0   \n",
       "1               25.0                     322              0.0   \n",
       "2               37.0                     330             12.0   \n",
       "3               50.0                     350              3.0   \n",
       "4               62.0                     300             12.0   \n",
       "\n",
       "   Pressure (millibars) Condensation  Solar irradiance intensity  \n",
       "0                1029.0          Fog                        1399  \n",
       "1                1009.0          Dry                        1468  \n",
       "2                1045.0          Dry                        1152  \n",
       "3                1022.0          Fog                        1003  \n",
       "4                1042.0          Fog                        1228  "
      ]
     },
     "execution_count": 290,
     "metadata": {},
     "output_type": "execute_result"
    }
   ],
   "source": [
    "df_t.head()"
   ]
  },
  {
   "cell_type": "code",
   "execution_count": 291,
   "metadata": {},
   "outputs": [
    {
     "data": {
      "text/plain": [
       "Day                           0\n",
       "Rain_OR_SNOW                  0\n",
       "Temperature (C)               0\n",
       "Apparent Temperature (C)      0\n",
       "Humidity                      0\n",
       "Wind Speed (km/h)             0\n",
       "Wind Bearing (degrees)        0\n",
       "Visibility (km)               0\n",
       "Pressure (millibars)          0\n",
       "Condensation                  0\n",
       "Solar irradiance intensity    0\n",
       "dtype: int64"
      ]
     },
     "execution_count": 291,
     "metadata": {},
     "output_type": "execute_result"
    }
   ],
   "source": [
    "df_t.isna().sum()"
   ]
  },
  {
   "cell_type": "code",
   "execution_count": 292,
   "metadata": {},
   "outputs": [
    {
     "name": "stdout",
     "output_type": "stream",
     "text": [
      "<class 'pandas.core.frame.DataFrame'>\n",
      "RangeIndex: 16452 entries, 0 to 16451\n",
      "Data columns (total 11 columns):\n",
      " #   Column                      Non-Null Count  Dtype  \n",
      "---  ------                      --------------  -----  \n",
      " 0   Day                         16452 non-null  int64  \n",
      " 1   Rain_OR_SNOW                16452 non-null  object \n",
      " 2   Temperature (C)             16452 non-null  float64\n",
      " 3   Apparent Temperature (C)    16452 non-null  float64\n",
      " 4   Humidity                    16452 non-null  float64\n",
      " 5   Wind Speed (km/h)           16452 non-null  float64\n",
      " 6   Wind Bearing (degrees)      16452 non-null  int64  \n",
      " 7   Visibility (km)             16452 non-null  float64\n",
      " 8   Pressure (millibars)        16452 non-null  float64\n",
      " 9   Condensation                16452 non-null  object \n",
      " 10  Solar irradiance intensity  16452 non-null  int64  \n",
      "dtypes: float64(6), int64(3), object(2)\n",
      "memory usage: 1.4+ MB\n"
     ]
    }
   ],
   "source": [
    "df_t.info()"
   ]
  },
  {
   "cell_type": "code",
   "execution_count": 293,
   "metadata": {},
   "outputs": [],
   "source": [
    "new_t = pd.get_dummies(df_t[cat],drop_first=True)"
   ]
  },
  {
   "cell_type": "code",
   "execution_count": 294,
   "metadata": {},
   "outputs": [],
   "source": [
    "X_nt = pd.concat([df_t, new_t], axis = 1)"
   ]
  },
  {
   "cell_type": "code",
   "execution_count": 295,
   "metadata": {},
   "outputs": [],
   "source": [
    "X_nt.drop(['Day','Rain_OR_SNOW','Condensation'], axis = 1, inplace=True)"
   ]
  },
  {
   "cell_type": "code",
   "execution_count": 297,
   "metadata": {},
   "outputs": [],
   "source": [
    "xn = sc.fit_transform(X_n)"
   ]
  },
  {
   "cell_type": "code",
   "execution_count": 298,
   "metadata": {},
   "outputs": [],
   "source": [
    "X_ntt = sc.transform(X_nt)"
   ]
  },
  {
   "cell_type": "code",
   "execution_count": 299,
   "metadata": {},
   "outputs": [
    {
     "data": {
      "text/plain": [
       "(71428, 12)"
      ]
     },
     "execution_count": 299,
     "metadata": {},
     "output_type": "execute_result"
    }
   ],
   "source": [
    "xn.shape"
   ]
  },
  {
   "cell_type": "code",
   "execution_count": 300,
   "metadata": {},
   "outputs": [
    {
     "data": {
      "text/plain": [
       "(16452, 12)"
      ]
     },
     "execution_count": 300,
     "metadata": {},
     "output_type": "execute_result"
    }
   ],
   "source": [
    "X_ntt.shape"
   ]
  },
  {
   "cell_type": "code",
   "execution_count": 301,
   "metadata": {},
   "outputs": [
    {
     "data": {
      "text/plain": [
       "RandomForestClassifier()"
      ]
     },
     "execution_count": 301,
     "metadata": {},
     "output_type": "execute_result"
    }
   ],
   "source": [
    "rf.fit(xn,y)"
   ]
  },
  {
   "cell_type": "code",
   "execution_count": 302,
   "metadata": {},
   "outputs": [
    {
     "data": {
      "text/plain": [
       "1.0"
      ]
     },
     "execution_count": 302,
     "metadata": {},
     "output_type": "execute_result"
    }
   ],
   "source": [
    "rf.score(xn,y)"
   ]
  },
  {
   "cell_type": "code",
   "execution_count": 210,
   "metadata": {},
   "outputs": [],
   "source": [
    "pred = rf.predict(X_ntt)"
   ]
  },
  {
   "cell_type": "code",
   "execution_count": 212,
   "metadata": {},
   "outputs": [],
   "source": [
    "predc = pd.Series(pred)"
   ]
  },
  {
   "cell_type": "code",
   "execution_count": 213,
   "metadata": {},
   "outputs": [],
   "source": [
    "predc.to_csv('Attempt1(rf).csv')"
   ]
  },
  {
   "cell_type": "code",
   "execution_count": 214,
   "metadata": {},
   "outputs": [],
   "source": [
    "#######################################################################"
   ]
  },
  {
   "cell_type": "code",
   "execution_count": 303,
   "metadata": {},
   "outputs": [],
   "source": [
    "from sklearn.feature_selection import SelectFromModel"
   ]
  },
  {
   "cell_type": "code",
   "execution_count": 216,
   "metadata": {},
   "outputs": [
    {
     "data": {
      "text/plain": [
       "SelectFromModel(estimator=RandomForestClassifier())"
      ]
     },
     "execution_count": 216,
     "metadata": {},
     "output_type": "execute_result"
    }
   ],
   "source": [
    "feature_select = SelectFromModel(estimator=RandomForestClassifier())\n",
    "feature_select.fit(X_n,y)"
   ]
  },
  {
   "cell_type": "code",
   "execution_count": 217,
   "metadata": {},
   "outputs": [
    {
     "data": {
      "text/plain": [
       "array([ True,  True,  True,  True,  True,  True,  True,  True, False,\n",
       "       False, False, False])"
      ]
     },
     "execution_count": 217,
     "metadata": {},
     "output_type": "execute_result"
    }
   ],
   "source": [
    "feature_select.get_support()"
   ]
  },
  {
   "cell_type": "code",
   "execution_count": 218,
   "metadata": {},
   "outputs": [],
   "source": [
    "cols_feat = X_n.columns[(feature_select.get_support())]"
   ]
  },
  {
   "cell_type": "code",
   "execution_count": 219,
   "metadata": {},
   "outputs": [
    {
     "data": {
      "text/plain": [
       "Index(['Temperature (C)', 'Apparent Temperature (C)', 'Humidity',\n",
       "       'Wind Speed (km/h)', 'Wind Bearing (degrees)', 'Visibility (km)',\n",
       "       'Pressure (millibars)', 'Solar irradiance intensity'],\n",
       "      dtype='object')"
      ]
     },
     "execution_count": 219,
     "metadata": {},
     "output_type": "execute_result"
    }
   ],
   "source": [
    "cols_feat"
   ]
  },
  {
   "cell_type": "code",
   "execution_count": 304,
   "metadata": {},
   "outputs": [],
   "source": [
    "X_nn = X_n[cols_feat]"
   ]
  },
  {
   "cell_type": "code",
   "execution_count": 305,
   "metadata": {},
   "outputs": [],
   "source": [
    "X_nttn = X_nt[cols_feat]"
   ]
  },
  {
   "cell_type": "code",
   "execution_count": null,
   "metadata": {},
   "outputs": [],
   "source": [
    "#####"
   ]
  },
  {
   "cell_type": "code",
   "execution_count": 306,
   "metadata": {},
   "outputs": [],
   "source": [
    "xn = sc.fit_transform(X_nn)\n",
    "X_ntt = sc.transform(X_nttn)"
   ]
  },
  {
   "cell_type": "code",
   "execution_count": 226,
   "metadata": {},
   "outputs": [],
   "source": [
    "rf.fit(xn,y)\n",
    "pred1 = rf.predict(X_ntt)"
   ]
  },
  {
   "cell_type": "code",
   "execution_count": 227,
   "metadata": {},
   "outputs": [],
   "source": [
    "predC2 = pd.Series(pred1)\n",
    "predC2.to_csv('Attempt2(rfFeat).csv')"
   ]
  },
  {
   "cell_type": "code",
   "execution_count": 229,
   "metadata": {},
   "outputs": [],
   "source": [
    "predC2.to_csv('Attempt2(rfFeat1).csv')"
   ]
  },
  {
   "cell_type": "code",
   "execution_count": 232,
   "metadata": {},
   "outputs": [],
   "source": [
    "############################################################################################"
   ]
  },
  {
   "cell_type": "code",
   "execution_count": 234,
   "metadata": {},
   "outputs": [],
   "source": [
    "from sklearn.ensemble import AdaBoostClassifier"
   ]
  },
  {
   "cell_type": "code",
   "execution_count": 307,
   "metadata": {
    "scrolled": true
   },
   "outputs": [],
   "source": [
    "ada = AdaBoostClassifier()"
   ]
  },
  {
   "cell_type": "code",
   "execution_count": 308,
   "metadata": {},
   "outputs": [],
   "source": [
    "ada.fit(xn,y)\n",
    "pred2 = ada.predict(X_ntt)"
   ]
  },
  {
   "cell_type": "code",
   "execution_count": 238,
   "metadata": {},
   "outputs": [],
   "source": [
    "predC3 = pd.Series(pred2)\n",
    "predC3.to_csv('Attempt2(adaFeat).csv')"
   ]
  },
  {
   "cell_type": "code",
   "execution_count": 242,
   "metadata": {},
   "outputs": [],
   "source": [
    "from xgboost import XGBClassifier"
   ]
  },
  {
   "cell_type": "code",
   "execution_count": 243,
   "metadata": {},
   "outputs": [
    {
     "data": {
      "text/plain": [
       "XGBClassifier(objective='multi:softprob')"
      ]
     },
     "execution_count": 243,
     "metadata": {},
     "output_type": "execute_result"
    }
   ],
   "source": [
    "xgb = XGBClassifier()\n",
    "xgb.fit(xn,y)"
   ]
  },
  {
   "cell_type": "code",
   "execution_count": 244,
   "metadata": {},
   "outputs": [],
   "source": [
    "pred3 = xgb.predict(X_ntt)"
   ]
  },
  {
   "cell_type": "code",
   "execution_count": 250,
   "metadata": {},
   "outputs": [],
   "source": [
    "predC3 = pd.Series(pred3)\n",
    "predC3.to_csv('Attempt4(xgb).csv')"
   ]
  },
  {
   "cell_type": "code",
   "execution_count": null,
   "metadata": {},
   "outputs": [],
   "source": []
  },
  {
   "cell_type": "code",
   "execution_count": 258,
   "metadata": {},
   "outputs": [],
   "source": []
  },
  {
   "cell_type": "code",
   "execution_count": null,
   "metadata": {},
   "outputs": [],
   "source": []
  },
  {
   "cell_type": "code",
   "execution_count": null,
   "metadata": {},
   "outputs": [],
   "source": []
  },
  {
   "cell_type": "code",
   "execution_count": null,
   "metadata": {},
   "outputs": [],
   "source": []
  }
 ],
 "metadata": {
  "kernelspec": {
   "display_name": "Python 3",
   "language": "python",
   "name": "python3"
  },
  "language_info": {
   "codemirror_mode": {
    "name": "ipython",
    "version": 3
   },
   "file_extension": ".py",
   "mimetype": "text/x-python",
   "name": "python",
   "nbconvert_exporter": "python",
   "pygments_lexer": "ipython3",
   "version": "3.7.7"
  }
 },
 "nbformat": 4,
 "nbformat_minor": 4
}
